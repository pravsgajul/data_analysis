{
 "cells": [
  {
   "cell_type": "markdown",
   "id": "7b9109b1",
   "metadata": {},
   "source": [
    "# IDA LAB 3"
   ]
  },
  {
   "cell_type": "code",
   "execution_count": 38,
   "id": "7fd45128",
   "metadata": {},
   "outputs": [],
   "source": [
    "#importing libraries\n",
    "import numpy as np\n",
    "import pandas as pd\n",
    "import matplotlib.pyplot as plt\n",
    "import seaborn as sns\n",
    "from sklearn import linear_model\n",
    "from sklearn.model_selection import train_test_split\n",
    "\n",
    "import warnings\n",
    "warnings.filterwarnings('ignore')\n",
    "%matplotlib inline"
   ]
  },
  {
   "cell_type": "code",
   "execution_count": 39,
   "id": "aaad4ac7",
   "metadata": {},
   "outputs": [
    {
     "data": {
      "text/html": [
       "<div>\n",
       "<style scoped>\n",
       "    .dataframe tbody tr th:only-of-type {\n",
       "        vertical-align: middle;\n",
       "    }\n",
       "\n",
       "    .dataframe tbody tr th {\n",
       "        vertical-align: top;\n",
       "    }\n",
       "\n",
       "    .dataframe thead th {\n",
       "        text-align: right;\n",
       "    }\n",
       "</style>\n",
       "<table border=\"1\" class=\"dataframe\">\n",
       "  <thead>\n",
       "    <tr style=\"text-align: right;\">\n",
       "      <th></th>\n",
       "      <th>name</th>\n",
       "      <th>mfr</th>\n",
       "      <th>type</th>\n",
       "      <th>calories</th>\n",
       "      <th>protein</th>\n",
       "      <th>fat</th>\n",
       "      <th>sodium</th>\n",
       "      <th>fiber</th>\n",
       "      <th>carbo</th>\n",
       "      <th>sugars</th>\n",
       "      <th>potass</th>\n",
       "      <th>vitamins</th>\n",
       "      <th>shelf</th>\n",
       "      <th>weight</th>\n",
       "      <th>cups</th>\n",
       "      <th>rating</th>\n",
       "    </tr>\n",
       "  </thead>\n",
       "  <tbody>\n",
       "    <tr>\n",
       "      <th>0</th>\n",
       "      <td>100%_Natural_Bran</td>\n",
       "      <td>Q</td>\n",
       "      <td>C</td>\n",
       "      <td>120</td>\n",
       "      <td>3</td>\n",
       "      <td>5</td>\n",
       "      <td>15</td>\n",
       "      <td>2.0</td>\n",
       "      <td>8.0</td>\n",
       "      <td>8</td>\n",
       "      <td>135</td>\n",
       "      <td>0</td>\n",
       "      <td>3</td>\n",
       "      <td>1.0</td>\n",
       "      <td>1.00</td>\n",
       "      <td>33.983679</td>\n",
       "    </tr>\n",
       "    <tr>\n",
       "      <th>1</th>\n",
       "      <td>All-Bran</td>\n",
       "      <td>K</td>\n",
       "      <td>C</td>\n",
       "      <td>70</td>\n",
       "      <td>4</td>\n",
       "      <td>1</td>\n",
       "      <td>260</td>\n",
       "      <td>9.0</td>\n",
       "      <td>7.0</td>\n",
       "      <td>5</td>\n",
       "      <td>320</td>\n",
       "      <td>25</td>\n",
       "      <td>3</td>\n",
       "      <td>1.0</td>\n",
       "      <td>0.33</td>\n",
       "      <td>59.425505</td>\n",
       "    </tr>\n",
       "    <tr>\n",
       "      <th>2</th>\n",
       "      <td>All-Bran_with_Extra_Fiber</td>\n",
       "      <td>K</td>\n",
       "      <td>C</td>\n",
       "      <td>50</td>\n",
       "      <td>4</td>\n",
       "      <td>0</td>\n",
       "      <td>140</td>\n",
       "      <td>14.0</td>\n",
       "      <td>8.0</td>\n",
       "      <td>0</td>\n",
       "      <td>330</td>\n",
       "      <td>25</td>\n",
       "      <td>3</td>\n",
       "      <td>1.0</td>\n",
       "      <td>0.50</td>\n",
       "      <td>93.704912</td>\n",
       "    </tr>\n",
       "    <tr>\n",
       "      <th>3</th>\n",
       "      <td>Almond_Delight</td>\n",
       "      <td>R</td>\n",
       "      <td>C</td>\n",
       "      <td>110</td>\n",
       "      <td>2</td>\n",
       "      <td>2</td>\n",
       "      <td>200</td>\n",
       "      <td>1.0</td>\n",
       "      <td>14.0</td>\n",
       "      <td>8</td>\n",
       "      <td>-1</td>\n",
       "      <td>25</td>\n",
       "      <td>3</td>\n",
       "      <td>1.0</td>\n",
       "      <td>0.75</td>\n",
       "      <td>34.384843</td>\n",
       "    </tr>\n",
       "    <tr>\n",
       "      <th>4</th>\n",
       "      <td>Apple_Cinnamon_Cheerios</td>\n",
       "      <td>G</td>\n",
       "      <td>C</td>\n",
       "      <td>110</td>\n",
       "      <td>2</td>\n",
       "      <td>2</td>\n",
       "      <td>180</td>\n",
       "      <td>1.5</td>\n",
       "      <td>10.5</td>\n",
       "      <td>10</td>\n",
       "      <td>70</td>\n",
       "      <td>25</td>\n",
       "      <td>1</td>\n",
       "      <td>1.0</td>\n",
       "      <td>0.75</td>\n",
       "      <td>29.509541</td>\n",
       "    </tr>\n",
       "    <tr>\n",
       "      <th>...</th>\n",
       "      <td>...</td>\n",
       "      <td>...</td>\n",
       "      <td>...</td>\n",
       "      <td>...</td>\n",
       "      <td>...</td>\n",
       "      <td>...</td>\n",
       "      <td>...</td>\n",
       "      <td>...</td>\n",
       "      <td>...</td>\n",
       "      <td>...</td>\n",
       "      <td>...</td>\n",
       "      <td>...</td>\n",
       "      <td>...</td>\n",
       "      <td>...</td>\n",
       "      <td>...</td>\n",
       "      <td>...</td>\n",
       "    </tr>\n",
       "    <tr>\n",
       "      <th>71</th>\n",
       "      <td>Triples</td>\n",
       "      <td>G</td>\n",
       "      <td>C</td>\n",
       "      <td>110</td>\n",
       "      <td>2</td>\n",
       "      <td>1</td>\n",
       "      <td>250</td>\n",
       "      <td>0.0</td>\n",
       "      <td>21.0</td>\n",
       "      <td>3</td>\n",
       "      <td>60</td>\n",
       "      <td>25</td>\n",
       "      <td>3</td>\n",
       "      <td>1.0</td>\n",
       "      <td>0.75</td>\n",
       "      <td>39.106174</td>\n",
       "    </tr>\n",
       "    <tr>\n",
       "      <th>72</th>\n",
       "      <td>Trix</td>\n",
       "      <td>G</td>\n",
       "      <td>C</td>\n",
       "      <td>110</td>\n",
       "      <td>1</td>\n",
       "      <td>1</td>\n",
       "      <td>140</td>\n",
       "      <td>0.0</td>\n",
       "      <td>13.0</td>\n",
       "      <td>12</td>\n",
       "      <td>25</td>\n",
       "      <td>25</td>\n",
       "      <td>2</td>\n",
       "      <td>1.0</td>\n",
       "      <td>1.00</td>\n",
       "      <td>27.753301</td>\n",
       "    </tr>\n",
       "    <tr>\n",
       "      <th>73</th>\n",
       "      <td>Wheat_Chex</td>\n",
       "      <td>R</td>\n",
       "      <td>C</td>\n",
       "      <td>100</td>\n",
       "      <td>3</td>\n",
       "      <td>1</td>\n",
       "      <td>230</td>\n",
       "      <td>3.0</td>\n",
       "      <td>17.0</td>\n",
       "      <td>3</td>\n",
       "      <td>115</td>\n",
       "      <td>25</td>\n",
       "      <td>1</td>\n",
       "      <td>1.0</td>\n",
       "      <td>0.67</td>\n",
       "      <td>49.787445</td>\n",
       "    </tr>\n",
       "    <tr>\n",
       "      <th>74</th>\n",
       "      <td>Wheaties</td>\n",
       "      <td>G</td>\n",
       "      <td>C</td>\n",
       "      <td>100</td>\n",
       "      <td>3</td>\n",
       "      <td>1</td>\n",
       "      <td>200</td>\n",
       "      <td>3.0</td>\n",
       "      <td>17.0</td>\n",
       "      <td>3</td>\n",
       "      <td>110</td>\n",
       "      <td>25</td>\n",
       "      <td>1</td>\n",
       "      <td>1.0</td>\n",
       "      <td>1.00</td>\n",
       "      <td>51.592193</td>\n",
       "    </tr>\n",
       "    <tr>\n",
       "      <th>75</th>\n",
       "      <td>Wheaties_Honey_Gold</td>\n",
       "      <td>G</td>\n",
       "      <td>C</td>\n",
       "      <td>110</td>\n",
       "      <td>2</td>\n",
       "      <td>1</td>\n",
       "      <td>200</td>\n",
       "      <td>1.0</td>\n",
       "      <td>16.0</td>\n",
       "      <td>8</td>\n",
       "      <td>60</td>\n",
       "      <td>25</td>\n",
       "      <td>1</td>\n",
       "      <td>1.0</td>\n",
       "      <td>0.75</td>\n",
       "      <td>36.187559</td>\n",
       "    </tr>\n",
       "  </tbody>\n",
       "</table>\n",
       "<p>76 rows × 16 columns</p>\n",
       "</div>"
      ],
      "text/plain": [
       "                         name mfr type  calories  protein  fat  sodium  fiber  \\\n",
       "0           100%_Natural_Bran   Q    C       120        3    5      15    2.0   \n",
       "1                    All-Bran   K    C        70        4    1     260    9.0   \n",
       "2   All-Bran_with_Extra_Fiber   K    C        50        4    0     140   14.0   \n",
       "3              Almond_Delight   R    C       110        2    2     200    1.0   \n",
       "4     Apple_Cinnamon_Cheerios   G    C       110        2    2     180    1.5   \n",
       "..                        ...  ..  ...       ...      ...  ...     ...    ...   \n",
       "71                    Triples   G    C       110        2    1     250    0.0   \n",
       "72                       Trix   G    C       110        1    1     140    0.0   \n",
       "73                 Wheat_Chex   R    C       100        3    1     230    3.0   \n",
       "74                   Wheaties   G    C       100        3    1     200    3.0   \n",
       "75        Wheaties_Honey_Gold   G    C       110        2    1     200    1.0   \n",
       "\n",
       "    carbo  sugars  potass  vitamins  shelf  weight  cups     rating  \n",
       "0     8.0       8     135         0      3     1.0  1.00  33.983679  \n",
       "1     7.0       5     320        25      3     1.0  0.33  59.425505  \n",
       "2     8.0       0     330        25      3     1.0  0.50  93.704912  \n",
       "3    14.0       8      -1        25      3     1.0  0.75  34.384843  \n",
       "4    10.5      10      70        25      1     1.0  0.75  29.509541  \n",
       "..    ...     ...     ...       ...    ...     ...   ...        ...  \n",
       "71   21.0       3      60        25      3     1.0  0.75  39.106174  \n",
       "72   13.0      12      25        25      2     1.0  1.00  27.753301  \n",
       "73   17.0       3     115        25      1     1.0  0.67  49.787445  \n",
       "74   17.0       3     110        25      1     1.0  1.00  51.592193  \n",
       "75   16.0       8      60        25      1     1.0  0.75  36.187559  \n",
       "\n",
       "[76 rows x 16 columns]"
      ]
     },
     "execution_count": 39,
     "metadata": {},
     "output_type": "execute_result"
    }
   ],
   "source": [
    "cereals = pd.read_csv(r\"C:\\\\Users\\Pravallika Gajul\\Downloads\\Cereals1.csv\")\n",
    "cereals"
   ]
  },
  {
   "cell_type": "markdown",
   "id": "55d949c4",
   "metadata": {},
   "source": [
    "# QUESTION 1"
   ]
  },
  {
   "cell_type": "code",
   "execution_count": 3,
   "id": "1ee15278",
   "metadata": {
    "scrolled": false
   },
   "outputs": [
    {
     "data": {
      "text/html": [
       "<div>\n",
       "<style scoped>\n",
       "    .dataframe tbody tr th:only-of-type {\n",
       "        vertical-align: middle;\n",
       "    }\n",
       "\n",
       "    .dataframe tbody tr th {\n",
       "        vertical-align: top;\n",
       "    }\n",
       "\n",
       "    .dataframe thead th {\n",
       "        text-align: right;\n",
       "    }\n",
       "</style>\n",
       "<table border=\"1\" class=\"dataframe\">\n",
       "  <thead>\n",
       "    <tr style=\"text-align: right;\">\n",
       "      <th></th>\n",
       "      <th>calories</th>\n",
       "      <th>protein</th>\n",
       "      <th>fat</th>\n",
       "      <th>sodium</th>\n",
       "      <th>fiber</th>\n",
       "      <th>carbo</th>\n",
       "      <th>sugars</th>\n",
       "      <th>potass</th>\n",
       "      <th>vitamins</th>\n",
       "      <th>shelf</th>\n",
       "      <th>weight</th>\n",
       "      <th>cups</th>\n",
       "      <th>rating</th>\n",
       "    </tr>\n",
       "  </thead>\n",
       "  <tbody>\n",
       "    <tr>\n",
       "      <th>min</th>\n",
       "      <td>50.0</td>\n",
       "      <td>1.0</td>\n",
       "      <td>0.0</td>\n",
       "      <td>0.0</td>\n",
       "      <td>0.00</td>\n",
       "      <td>-1.0</td>\n",
       "      <td>-1.0</td>\n",
       "      <td>-1.0</td>\n",
       "      <td>0.0</td>\n",
       "      <td>1.0</td>\n",
       "      <td>0.5</td>\n",
       "      <td>0.25</td>\n",
       "      <td>18.042851</td>\n",
       "    </tr>\n",
       "    <tr>\n",
       "      <th>25%</th>\n",
       "      <td>100.0</td>\n",
       "      <td>2.0</td>\n",
       "      <td>0.0</td>\n",
       "      <td>132.5</td>\n",
       "      <td>0.75</td>\n",
       "      <td>12.0</td>\n",
       "      <td>3.0</td>\n",
       "      <td>40.0</td>\n",
       "      <td>25.0</td>\n",
       "      <td>1.0</td>\n",
       "      <td>1.0</td>\n",
       "      <td>0.67</td>\n",
       "      <td>32.932466</td>\n",
       "    </tr>\n",
       "    <tr>\n",
       "      <th>50%</th>\n",
       "      <td>110.0</td>\n",
       "      <td>2.5</td>\n",
       "      <td>1.0</td>\n",
       "      <td>180.0</td>\n",
       "      <td>1.75</td>\n",
       "      <td>14.5</td>\n",
       "      <td>7.0</td>\n",
       "      <td>90.0</td>\n",
       "      <td>25.0</td>\n",
       "      <td>2.0</td>\n",
       "      <td>1.0</td>\n",
       "      <td>0.75</td>\n",
       "      <td>40.253086</td>\n",
       "    </tr>\n",
       "    <tr>\n",
       "      <th>75%</th>\n",
       "      <td>110.0</td>\n",
       "      <td>3.0</td>\n",
       "      <td>2.0</td>\n",
       "      <td>212.5</td>\n",
       "      <td>3.00</td>\n",
       "      <td>17.0</td>\n",
       "      <td>11.0</td>\n",
       "      <td>120.0</td>\n",
       "      <td>25.0</td>\n",
       "      <td>3.0</td>\n",
       "      <td>1.0</td>\n",
       "      <td>1.00</td>\n",
       "      <td>50.780847</td>\n",
       "    </tr>\n",
       "    <tr>\n",
       "      <th>max</th>\n",
       "      <td>160.0</td>\n",
       "      <td>6.0</td>\n",
       "      <td>5.0</td>\n",
       "      <td>320.0</td>\n",
       "      <td>14.00</td>\n",
       "      <td>23.0</td>\n",
       "      <td>15.0</td>\n",
       "      <td>330.0</td>\n",
       "      <td>100.0</td>\n",
       "      <td>3.0</td>\n",
       "      <td>1.5</td>\n",
       "      <td>1.50</td>\n",
       "      <td>93.704912</td>\n",
       "    </tr>\n",
       "  </tbody>\n",
       "</table>\n",
       "</div>"
      ],
      "text/plain": [
       "     calories  protein  fat  sodium  fiber  carbo  sugars  potass  vitamins  \\\n",
       "min      50.0      1.0  0.0     0.0   0.00   -1.0    -1.0    -1.0       0.0   \n",
       "25%     100.0      2.0  0.0   132.5   0.75   12.0     3.0    40.0      25.0   \n",
       "50%     110.0      2.5  1.0   180.0   1.75   14.5     7.0    90.0      25.0   \n",
       "75%     110.0      3.0  2.0   212.5   3.00   17.0    11.0   120.0      25.0   \n",
       "max     160.0      6.0  5.0   320.0  14.00   23.0    15.0   330.0     100.0   \n",
       "\n",
       "     shelf  weight  cups     rating  \n",
       "min    1.0     0.5  0.25  18.042851  \n",
       "25%    1.0     1.0  0.67  32.932466  \n",
       "50%    2.0     1.0  0.75  40.253086  \n",
       "75%    3.0     1.0  1.00  50.780847  \n",
       "max    3.0     1.5  1.50  93.704912  "
      ]
     },
     "execution_count": 3,
     "metadata": {},
     "output_type": "execute_result"
    }
   ],
   "source": [
    "#Question 1\n",
    "#Create a table with the 5-number summary of all the numeric attributes\n",
    "\n",
    "#using describe function of pandas library that shows the five number summary of the data in the last 5 rows\n",
    "cereals.describe().tail(5)"
   ]
  },
  {
   "cell_type": "markdown",
   "id": "c40190a6",
   "metadata": {},
   "source": [
    "# QUESTION 2"
   ]
  },
  {
   "cell_type": "code",
   "execution_count": 4,
   "id": "3cb0b4c2",
   "metadata": {
    "scrolled": true
   },
   "outputs": [
    {
     "data": {
      "text/html": [
       "<div>\n",
       "<style scoped>\n",
       "    .dataframe tbody tr th:only-of-type {\n",
       "        vertical-align: middle;\n",
       "    }\n",
       "\n",
       "    .dataframe tbody tr th {\n",
       "        vertical-align: top;\n",
       "    }\n",
       "\n",
       "    .dataframe thead th {\n",
       "        text-align: right;\n",
       "    }\n",
       "</style>\n",
       "<table border=\"1\" class=\"dataframe\">\n",
       "  <thead>\n",
       "    <tr style=\"text-align: right;\">\n",
       "      <th></th>\n",
       "      <th>protein</th>\n",
       "      <th>fat</th>\n",
       "      <th>sodium</th>\n",
       "      <th>fiber</th>\n",
       "      <th>carbo</th>\n",
       "      <th>sugars</th>\n",
       "      <th>potass</th>\n",
       "      <th>vitamins</th>\n",
       "    </tr>\n",
       "  </thead>\n",
       "  <tbody>\n",
       "    <tr>\n",
       "      <th>3</th>\n",
       "      <td>2</td>\n",
       "      <td>2</td>\n",
       "      <td>200</td>\n",
       "      <td>1.0</td>\n",
       "      <td>14.0</td>\n",
       "      <td>8</td>\n",
       "      <td>-1</td>\n",
       "      <td>25</td>\n",
       "    </tr>\n",
       "    <tr>\n",
       "      <th>19</th>\n",
       "      <td>3</td>\n",
       "      <td>0</td>\n",
       "      <td>80</td>\n",
       "      <td>1.0</td>\n",
       "      <td>21.0</td>\n",
       "      <td>0</td>\n",
       "      <td>-1</td>\n",
       "      <td>0</td>\n",
       "    </tr>\n",
       "    <tr>\n",
       "      <th>56</th>\n",
       "      <td>5</td>\n",
       "      <td>2</td>\n",
       "      <td>0</td>\n",
       "      <td>2.7</td>\n",
       "      <td>-1.0</td>\n",
       "      <td>-1</td>\n",
       "      <td>110</td>\n",
       "      <td>0</td>\n",
       "    </tr>\n",
       "    <tr>\n",
       "      <th>56</th>\n",
       "      <td>5</td>\n",
       "      <td>2</td>\n",
       "      <td>0</td>\n",
       "      <td>2.7</td>\n",
       "      <td>-1.0</td>\n",
       "      <td>-1</td>\n",
       "      <td>110</td>\n",
       "      <td>0</td>\n",
       "    </tr>\n",
       "  </tbody>\n",
       "</table>\n",
       "</div>"
      ],
      "text/plain": [
       "    protein  fat  sodium  fiber  carbo  sugars  potass  vitamins\n",
       "3         2    2     200    1.0   14.0       8      -1        25\n",
       "19        3    0      80    1.0   21.0       0      -1         0\n",
       "56        5    2       0    2.7   -1.0      -1     110         0\n",
       "56        5    2       0    2.7   -1.0      -1     110         0"
      ]
     },
     "execution_count": 4,
     "metadata": {},
     "output_type": "execute_result"
    }
   ],
   "source": [
    "cereals[['protein' , 'fat' , 'sodium', 'fiber' , 'carbo' , 'sugars' , 'potass' , 'vitamins']][cereals.values==-1]"
   ]
  },
  {
   "cell_type": "code",
   "execution_count": 5,
   "id": "82f1da7d",
   "metadata": {},
   "outputs": [
    {
     "data": {
      "text/html": [
       "<div>\n",
       "<style scoped>\n",
       "    .dataframe tbody tr th:only-of-type {\n",
       "        vertical-align: middle;\n",
       "    }\n",
       "\n",
       "    .dataframe tbody tr th {\n",
       "        vertical-align: top;\n",
       "    }\n",
       "\n",
       "    .dataframe thead th {\n",
       "        text-align: right;\n",
       "    }\n",
       "</style>\n",
       "<table border=\"1\" class=\"dataframe\">\n",
       "  <thead>\n",
       "    <tr style=\"text-align: right;\">\n",
       "      <th></th>\n",
       "      <th>name</th>\n",
       "      <th>mfr</th>\n",
       "      <th>type</th>\n",
       "      <th>calories</th>\n",
       "      <th>protein</th>\n",
       "      <th>fat</th>\n",
       "      <th>sodium</th>\n",
       "      <th>fiber</th>\n",
       "      <th>carbo</th>\n",
       "      <th>sugars</th>\n",
       "      <th>potass</th>\n",
       "      <th>vitamins</th>\n",
       "      <th>shelf</th>\n",
       "      <th>weight</th>\n",
       "      <th>cups</th>\n",
       "      <th>rating</th>\n",
       "    </tr>\n",
       "  </thead>\n",
       "  <tbody>\n",
       "    <tr>\n",
       "      <th>0</th>\n",
       "      <td>100%_Natural_Bran</td>\n",
       "      <td>Q</td>\n",
       "      <td>C</td>\n",
       "      <td>120</td>\n",
       "      <td>3</td>\n",
       "      <td>5</td>\n",
       "      <td>15</td>\n",
       "      <td>2.0</td>\n",
       "      <td>8.0</td>\n",
       "      <td>8.0</td>\n",
       "      <td>135.000000</td>\n",
       "      <td>0</td>\n",
       "      <td>3</td>\n",
       "      <td>1.0</td>\n",
       "      <td>1.00</td>\n",
       "      <td>33.983679</td>\n",
       "    </tr>\n",
       "    <tr>\n",
       "      <th>1</th>\n",
       "      <td>All-Bran</td>\n",
       "      <td>K</td>\n",
       "      <td>C</td>\n",
       "      <td>70</td>\n",
       "      <td>4</td>\n",
       "      <td>1</td>\n",
       "      <td>260</td>\n",
       "      <td>9.0</td>\n",
       "      <td>7.0</td>\n",
       "      <td>5.0</td>\n",
       "      <td>320.000000</td>\n",
       "      <td>25</td>\n",
       "      <td>3</td>\n",
       "      <td>1.0</td>\n",
       "      <td>0.33</td>\n",
       "      <td>59.425505</td>\n",
       "    </tr>\n",
       "    <tr>\n",
       "      <th>2</th>\n",
       "      <td>All-Bran_with_Extra_Fiber</td>\n",
       "      <td>K</td>\n",
       "      <td>C</td>\n",
       "      <td>50</td>\n",
       "      <td>4</td>\n",
       "      <td>0</td>\n",
       "      <td>140</td>\n",
       "      <td>14.0</td>\n",
       "      <td>8.0</td>\n",
       "      <td>0.0</td>\n",
       "      <td>330.000000</td>\n",
       "      <td>25</td>\n",
       "      <td>3</td>\n",
       "      <td>1.0</td>\n",
       "      <td>0.50</td>\n",
       "      <td>93.704912</td>\n",
       "    </tr>\n",
       "    <tr>\n",
       "      <th>3</th>\n",
       "      <td>Almond_Delight</td>\n",
       "      <td>R</td>\n",
       "      <td>C</td>\n",
       "      <td>110</td>\n",
       "      <td>2</td>\n",
       "      <td>2</td>\n",
       "      <td>200</td>\n",
       "      <td>1.0</td>\n",
       "      <td>14.0</td>\n",
       "      <td>8.0</td>\n",
       "      <td>93.657895</td>\n",
       "      <td>25</td>\n",
       "      <td>3</td>\n",
       "      <td>1.0</td>\n",
       "      <td>0.75</td>\n",
       "      <td>34.384843</td>\n",
       "    </tr>\n",
       "    <tr>\n",
       "      <th>4</th>\n",
       "      <td>Apple_Cinnamon_Cheerios</td>\n",
       "      <td>G</td>\n",
       "      <td>C</td>\n",
       "      <td>110</td>\n",
       "      <td>2</td>\n",
       "      <td>2</td>\n",
       "      <td>180</td>\n",
       "      <td>1.5</td>\n",
       "      <td>10.5</td>\n",
       "      <td>10.0</td>\n",
       "      <td>70.000000</td>\n",
       "      <td>25</td>\n",
       "      <td>1</td>\n",
       "      <td>1.0</td>\n",
       "      <td>0.75</td>\n",
       "      <td>29.509541</td>\n",
       "    </tr>\n",
       "    <tr>\n",
       "      <th>...</th>\n",
       "      <td>...</td>\n",
       "      <td>...</td>\n",
       "      <td>...</td>\n",
       "      <td>...</td>\n",
       "      <td>...</td>\n",
       "      <td>...</td>\n",
       "      <td>...</td>\n",
       "      <td>...</td>\n",
       "      <td>...</td>\n",
       "      <td>...</td>\n",
       "      <td>...</td>\n",
       "      <td>...</td>\n",
       "      <td>...</td>\n",
       "      <td>...</td>\n",
       "      <td>...</td>\n",
       "      <td>...</td>\n",
       "    </tr>\n",
       "    <tr>\n",
       "      <th>71</th>\n",
       "      <td>Triples</td>\n",
       "      <td>G</td>\n",
       "      <td>C</td>\n",
       "      <td>110</td>\n",
       "      <td>2</td>\n",
       "      <td>1</td>\n",
       "      <td>250</td>\n",
       "      <td>0.0</td>\n",
       "      <td>21.0</td>\n",
       "      <td>3.0</td>\n",
       "      <td>60.000000</td>\n",
       "      <td>25</td>\n",
       "      <td>3</td>\n",
       "      <td>1.0</td>\n",
       "      <td>0.75</td>\n",
       "      <td>39.106174</td>\n",
       "    </tr>\n",
       "    <tr>\n",
       "      <th>72</th>\n",
       "      <td>Trix</td>\n",
       "      <td>G</td>\n",
       "      <td>C</td>\n",
       "      <td>110</td>\n",
       "      <td>1</td>\n",
       "      <td>1</td>\n",
       "      <td>140</td>\n",
       "      <td>0.0</td>\n",
       "      <td>13.0</td>\n",
       "      <td>12.0</td>\n",
       "      <td>25.000000</td>\n",
       "      <td>25</td>\n",
       "      <td>2</td>\n",
       "      <td>1.0</td>\n",
       "      <td>1.00</td>\n",
       "      <td>27.753301</td>\n",
       "    </tr>\n",
       "    <tr>\n",
       "      <th>73</th>\n",
       "      <td>Wheat_Chex</td>\n",
       "      <td>R</td>\n",
       "      <td>C</td>\n",
       "      <td>100</td>\n",
       "      <td>3</td>\n",
       "      <td>1</td>\n",
       "      <td>230</td>\n",
       "      <td>3.0</td>\n",
       "      <td>17.0</td>\n",
       "      <td>3.0</td>\n",
       "      <td>115.000000</td>\n",
       "      <td>25</td>\n",
       "      <td>1</td>\n",
       "      <td>1.0</td>\n",
       "      <td>0.67</td>\n",
       "      <td>49.787445</td>\n",
       "    </tr>\n",
       "    <tr>\n",
       "      <th>74</th>\n",
       "      <td>Wheaties</td>\n",
       "      <td>G</td>\n",
       "      <td>C</td>\n",
       "      <td>100</td>\n",
       "      <td>3</td>\n",
       "      <td>1</td>\n",
       "      <td>200</td>\n",
       "      <td>3.0</td>\n",
       "      <td>17.0</td>\n",
       "      <td>3.0</td>\n",
       "      <td>110.000000</td>\n",
       "      <td>25</td>\n",
       "      <td>1</td>\n",
       "      <td>1.0</td>\n",
       "      <td>1.00</td>\n",
       "      <td>51.592193</td>\n",
       "    </tr>\n",
       "    <tr>\n",
       "      <th>75</th>\n",
       "      <td>Wheaties_Honey_Gold</td>\n",
       "      <td>G</td>\n",
       "      <td>C</td>\n",
       "      <td>110</td>\n",
       "      <td>2</td>\n",
       "      <td>1</td>\n",
       "      <td>200</td>\n",
       "      <td>1.0</td>\n",
       "      <td>16.0</td>\n",
       "      <td>8.0</td>\n",
       "      <td>60.000000</td>\n",
       "      <td>25</td>\n",
       "      <td>1</td>\n",
       "      <td>1.0</td>\n",
       "      <td>0.75</td>\n",
       "      <td>36.187559</td>\n",
       "    </tr>\n",
       "  </tbody>\n",
       "</table>\n",
       "<p>76 rows × 16 columns</p>\n",
       "</div>"
      ],
      "text/plain": [
       "                         name mfr type  calories  protein  fat  sodium  fiber  \\\n",
       "0           100%_Natural_Bran   Q    C       120        3    5      15    2.0   \n",
       "1                    All-Bran   K    C        70        4    1     260    9.0   \n",
       "2   All-Bran_with_Extra_Fiber   K    C        50        4    0     140   14.0   \n",
       "3              Almond_Delight   R    C       110        2    2     200    1.0   \n",
       "4     Apple_Cinnamon_Cheerios   G    C       110        2    2     180    1.5   \n",
       "..                        ...  ..  ...       ...      ...  ...     ...    ...   \n",
       "71                    Triples   G    C       110        2    1     250    0.0   \n",
       "72                       Trix   G    C       110        1    1     140    0.0   \n",
       "73                 Wheat_Chex   R    C       100        3    1     230    3.0   \n",
       "74                   Wheaties   G    C       100        3    1     200    3.0   \n",
       "75        Wheaties_Honey_Gold   G    C       110        2    1     200    1.0   \n",
       "\n",
       "    carbo  sugars      potass  vitamins  shelf  weight  cups     rating  \n",
       "0     8.0     8.0  135.000000         0      3     1.0  1.00  33.983679  \n",
       "1     7.0     5.0  320.000000        25      3     1.0  0.33  59.425505  \n",
       "2     8.0     0.0  330.000000        25      3     1.0  0.50  93.704912  \n",
       "3    14.0     8.0   93.657895        25      3     1.0  0.75  34.384843  \n",
       "4    10.5    10.0   70.000000        25      1     1.0  0.75  29.509541  \n",
       "..    ...     ...         ...       ...    ...     ...   ...        ...  \n",
       "71   21.0     3.0   60.000000        25      3     1.0  0.75  39.106174  \n",
       "72   13.0    12.0   25.000000        25      2     1.0  1.00  27.753301  \n",
       "73   17.0     3.0  115.000000        25      1     1.0  0.67  49.787445  \n",
       "74   17.0     3.0  110.000000        25      1     1.0  1.00  51.592193  \n",
       "75   16.0     8.0   60.000000        25      1     1.0  0.75  36.187559  \n",
       "\n",
       "[76 rows x 16 columns]"
      ]
     },
     "execution_count": 5,
     "metadata": {},
     "output_type": "execute_result"
    }
   ],
   "source": [
    "cereals[\"carbo\"].replace({-1 : cereals[\"carbo\"].mean()}, inplace = True)\n",
    "cereals[\"potass\"].replace({-1:cereals[\"potass\"].mean()}, inplace = True)\n",
    "cereals[\"sugars\"].replace({-1: cereals[\"sugars\"].mean()}, inplace = True)\n",
    "cereals"
   ]
  },
  {
   "cell_type": "markdown",
   "id": "f83f1c36",
   "metadata": {},
   "source": [
    "# QUESTION 3"
   ]
  },
  {
   "cell_type": "code",
   "execution_count": 6,
   "id": "97fbb500",
   "metadata": {
    "scrolled": true
   },
   "outputs": [
    {
     "data": {
      "text/html": [
       "<div>\n",
       "<style scoped>\n",
       "    .dataframe tbody tr th:only-of-type {\n",
       "        vertical-align: middle;\n",
       "    }\n",
       "\n",
       "    .dataframe tbody tr th {\n",
       "        vertical-align: top;\n",
       "    }\n",
       "\n",
       "    .dataframe thead th {\n",
       "        text-align: right;\n",
       "    }\n",
       "</style>\n",
       "<table border=\"1\" class=\"dataframe\">\n",
       "  <thead>\n",
       "    <tr style=\"text-align: right;\">\n",
       "      <th></th>\n",
       "      <th>calories</th>\n",
       "      <th>protein</th>\n",
       "      <th>fat</th>\n",
       "      <th>sodium</th>\n",
       "      <th>fiber</th>\n",
       "      <th>carbo</th>\n",
       "      <th>sugars</th>\n",
       "      <th>potass</th>\n",
       "      <th>vitamins</th>\n",
       "      <th>shelf</th>\n",
       "      <th>weight</th>\n",
       "      <th>cups</th>\n",
       "      <th>rating</th>\n",
       "    </tr>\n",
       "  </thead>\n",
       "  <tbody>\n",
       "    <tr>\n",
       "      <th>min</th>\n",
       "      <td>50.0</td>\n",
       "      <td>1.0</td>\n",
       "      <td>0.0</td>\n",
       "      <td>0.0</td>\n",
       "      <td>0.00</td>\n",
       "      <td>7.000000</td>\n",
       "      <td>0.0</td>\n",
       "      <td>15.00</td>\n",
       "      <td>0.0</td>\n",
       "      <td>1.0</td>\n",
       "      <td>0.5</td>\n",
       "      <td>0.25</td>\n",
       "      <td>18.042851</td>\n",
       "    </tr>\n",
       "    <tr>\n",
       "      <th>25%</th>\n",
       "      <td>100.0</td>\n",
       "      <td>2.0</td>\n",
       "      <td>0.0</td>\n",
       "      <td>132.5</td>\n",
       "      <td>0.75</td>\n",
       "      <td>12.000000</td>\n",
       "      <td>3.0</td>\n",
       "      <td>43.75</td>\n",
       "      <td>25.0</td>\n",
       "      <td>1.0</td>\n",
       "      <td>1.0</td>\n",
       "      <td>0.67</td>\n",
       "      <td>32.932466</td>\n",
       "    </tr>\n",
       "    <tr>\n",
       "      <th>50%</th>\n",
       "      <td>110.0</td>\n",
       "      <td>2.5</td>\n",
       "      <td>1.0</td>\n",
       "      <td>180.0</td>\n",
       "      <td>1.75</td>\n",
       "      <td>14.861842</td>\n",
       "      <td>7.0</td>\n",
       "      <td>90.00</td>\n",
       "      <td>25.0</td>\n",
       "      <td>2.0</td>\n",
       "      <td>1.0</td>\n",
       "      <td>0.75</td>\n",
       "      <td>40.253086</td>\n",
       "    </tr>\n",
       "    <tr>\n",
       "      <th>75%</th>\n",
       "      <td>110.0</td>\n",
       "      <td>3.0</td>\n",
       "      <td>2.0</td>\n",
       "      <td>212.5</td>\n",
       "      <td>3.00</td>\n",
       "      <td>17.000000</td>\n",
       "      <td>11.0</td>\n",
       "      <td>120.00</td>\n",
       "      <td>25.0</td>\n",
       "      <td>3.0</td>\n",
       "      <td>1.0</td>\n",
       "      <td>1.00</td>\n",
       "      <td>50.780847</td>\n",
       "    </tr>\n",
       "    <tr>\n",
       "      <th>max</th>\n",
       "      <td>160.0</td>\n",
       "      <td>6.0</td>\n",
       "      <td>5.0</td>\n",
       "      <td>320.0</td>\n",
       "      <td>14.00</td>\n",
       "      <td>23.000000</td>\n",
       "      <td>15.0</td>\n",
       "      <td>330.00</td>\n",
       "      <td>100.0</td>\n",
       "      <td>3.0</td>\n",
       "      <td>1.5</td>\n",
       "      <td>1.50</td>\n",
       "      <td>93.704912</td>\n",
       "    </tr>\n",
       "  </tbody>\n",
       "</table>\n",
       "</div>"
      ],
      "text/plain": [
       "     calories  protein  fat  sodium  fiber      carbo  sugars  potass  \\\n",
       "min      50.0      1.0  0.0     0.0   0.00   7.000000     0.0   15.00   \n",
       "25%     100.0      2.0  0.0   132.5   0.75  12.000000     3.0   43.75   \n",
       "50%     110.0      2.5  1.0   180.0   1.75  14.861842     7.0   90.00   \n",
       "75%     110.0      3.0  2.0   212.5   3.00  17.000000    11.0  120.00   \n",
       "max     160.0      6.0  5.0   320.0  14.00  23.000000    15.0  330.00   \n",
       "\n",
       "     vitamins  shelf  weight  cups     rating  \n",
       "min       0.0    1.0     0.5  0.25  18.042851  \n",
       "25%      25.0    1.0     1.0  0.67  32.932466  \n",
       "50%      25.0    2.0     1.0  0.75  40.253086  \n",
       "75%      25.0    3.0     1.0  1.00  50.780847  \n",
       "max     100.0    3.0     1.5  1.50  93.704912  "
      ]
     },
     "execution_count": 6,
     "metadata": {},
     "output_type": "execute_result"
    }
   ],
   "source": [
    "cereals.describe().tail(5)"
   ]
  },
  {
   "cell_type": "markdown",
   "id": "49b2ca46",
   "metadata": {},
   "source": [
    "There is change in the min of the columns carbohydrates, sugar and potassium.\n",
    "But in general the other quartile values remain unchanged or only differ a little.\n",
    "Thus, this strategy is good for dealing with noisy data"
   ]
  },
  {
   "cell_type": "markdown",
   "id": "8c437073",
   "metadata": {},
   "source": [
    "# QUESTION 4"
   ]
  },
  {
   "cell_type": "markdown",
   "id": "a2fcc547",
   "metadata": {},
   "source": [
    "For each of the numeric attributes (proteins upto vitamins), identify and replace all noisy data with the median of attribute."
   ]
  },
  {
   "cell_type": "code",
   "execution_count": 7,
   "id": "8a2dc5ae",
   "metadata": {},
   "outputs": [
    {
     "name": "stdout",
     "output_type": "stream",
     "text": [
      "90.0\n",
      "14.861842105263158\n",
      "7.0\n"
     ]
    }
   ],
   "source": [
    "median_p = cereals[cereals[\"potass\"]>-1]\n",
    "median_potass = median_p.potass.median()\n",
    "\n",
    "median_c = cereals[cereals[\"carbo\"]>-1]\n",
    "median_carbo = median_c.carbo.median()\n",
    "\n",
    "median_s = cereals[cereals[\"sugars\"]>-1]\n",
    "median_sugars = median_s.sugars.median()\n",
    "\n",
    "print(median_potass)\n",
    "print(median_carbo)\n",
    "print(median_sugars)"
   ]
  },
  {
   "cell_type": "code",
   "execution_count": 8,
   "id": "e5689dd6",
   "metadata": {},
   "outputs": [
    {
     "data": {
      "text/html": [
       "<div>\n",
       "<style scoped>\n",
       "    .dataframe tbody tr th:only-of-type {\n",
       "        vertical-align: middle;\n",
       "    }\n",
       "\n",
       "    .dataframe tbody tr th {\n",
       "        vertical-align: top;\n",
       "    }\n",
       "\n",
       "    .dataframe thead th {\n",
       "        text-align: right;\n",
       "    }\n",
       "</style>\n",
       "<table border=\"1\" class=\"dataframe\">\n",
       "  <thead>\n",
       "    <tr style=\"text-align: right;\">\n",
       "      <th></th>\n",
       "      <th>count</th>\n",
       "      <th>mean</th>\n",
       "      <th>std</th>\n",
       "      <th>min</th>\n",
       "      <th>25%</th>\n",
       "      <th>50%</th>\n",
       "      <th>75%</th>\n",
       "      <th>max</th>\n",
       "    </tr>\n",
       "  </thead>\n",
       "  <tbody>\n",
       "    <tr>\n",
       "      <th>protein</th>\n",
       "      <td>76.0</td>\n",
       "      <td>2.526316</td>\n",
       "      <td>1.089020</td>\n",
       "      <td>1.0</td>\n",
       "      <td>2.00</td>\n",
       "      <td>2.500000</td>\n",
       "      <td>3.0</td>\n",
       "      <td>6.0</td>\n",
       "    </tr>\n",
       "    <tr>\n",
       "      <th>fat</th>\n",
       "      <td>76.0</td>\n",
       "      <td>1.013158</td>\n",
       "      <td>1.013159</td>\n",
       "      <td>0.0</td>\n",
       "      <td>0.00</td>\n",
       "      <td>1.000000</td>\n",
       "      <td>2.0</td>\n",
       "      <td>5.0</td>\n",
       "    </tr>\n",
       "    <tr>\n",
       "      <th>sodium</th>\n",
       "      <td>76.0</td>\n",
       "      <td>160.065789</td>\n",
       "      <td>84.318813</td>\n",
       "      <td>0.0</td>\n",
       "      <td>132.50</td>\n",
       "      <td>180.000000</td>\n",
       "      <td>212.5</td>\n",
       "      <td>320.0</td>\n",
       "    </tr>\n",
       "    <tr>\n",
       "      <th>fiber</th>\n",
       "      <td>76.0</td>\n",
       "      <td>2.048684</td>\n",
       "      <td>2.219038</td>\n",
       "      <td>0.0</td>\n",
       "      <td>0.75</td>\n",
       "      <td>1.750000</td>\n",
       "      <td>3.0</td>\n",
       "      <td>14.0</td>\n",
       "    </tr>\n",
       "    <tr>\n",
       "      <th>carbo</th>\n",
       "      <td>76.0</td>\n",
       "      <td>14.930575</td>\n",
       "      <td>3.737575</td>\n",
       "      <td>7.0</td>\n",
       "      <td>12.00</td>\n",
       "      <td>14.861842</td>\n",
       "      <td>17.0</td>\n",
       "      <td>23.0</td>\n",
       "    </tr>\n",
       "    <tr>\n",
       "      <th>sugars</th>\n",
       "      <td>76.0</td>\n",
       "      <td>7.038608</td>\n",
       "      <td>4.377048</td>\n",
       "      <td>0.0</td>\n",
       "      <td>3.00</td>\n",
       "      <td>7.000000</td>\n",
       "      <td>11.0</td>\n",
       "      <td>15.0</td>\n",
       "    </tr>\n",
       "    <tr>\n",
       "      <th>potass</th>\n",
       "      <td>76.0</td>\n",
       "      <td>96.148892</td>\n",
       "      <td>66.688658</td>\n",
       "      <td>15.0</td>\n",
       "      <td>43.75</td>\n",
       "      <td>90.000000</td>\n",
       "      <td>120.0</td>\n",
       "      <td>330.0</td>\n",
       "    </tr>\n",
       "    <tr>\n",
       "      <th>vitamins</th>\n",
       "      <td>76.0</td>\n",
       "      <td>28.289474</td>\n",
       "      <td>22.487813</td>\n",
       "      <td>0.0</td>\n",
       "      <td>25.00</td>\n",
       "      <td>25.000000</td>\n",
       "      <td>25.0</td>\n",
       "      <td>100.0</td>\n",
       "    </tr>\n",
       "  </tbody>\n",
       "</table>\n",
       "</div>"
      ],
      "text/plain": [
       "          count        mean        std   min     25%         50%    75%    max\n",
       "protein    76.0    2.526316   1.089020   1.0    2.00    2.500000    3.0    6.0\n",
       "fat        76.0    1.013158   1.013159   0.0    0.00    1.000000    2.0    5.0\n",
       "sodium     76.0  160.065789  84.318813   0.0  132.50  180.000000  212.5  320.0\n",
       "fiber      76.0    2.048684   2.219038   0.0    0.75    1.750000    3.0   14.0\n",
       "carbo      76.0   14.930575   3.737575   7.0   12.00   14.861842   17.0   23.0\n",
       "sugars     76.0    7.038608   4.377048   0.0    3.00    7.000000   11.0   15.0\n",
       "potass     76.0   96.148892  66.688658  15.0   43.75   90.000000  120.0  330.0\n",
       "vitamins   76.0   28.289474  22.487813   0.0   25.00   25.000000   25.0  100.0"
      ]
     },
     "execution_count": 8,
     "metadata": {},
     "output_type": "execute_result"
    }
   ],
   "source": [
    "cereals1 = cereals[['protein' , 'fat' , 'sodium' , 'fiber' , 'carbo' , 'sugars' , 'potass' , 'vitamins']]\n",
    "s = pd.DataFrame(cereals1.describe().T)\n",
    "s"
   ]
  },
  {
   "cell_type": "code",
   "execution_count": 9,
   "id": "8ae6108e",
   "metadata": {},
   "outputs": [
    {
     "data": {
      "text/html": [
       "<div>\n",
       "<style scoped>\n",
       "    .dataframe tbody tr th:only-of-type {\n",
       "        vertical-align: middle;\n",
       "    }\n",
       "\n",
       "    .dataframe tbody tr th {\n",
       "        vertical-align: top;\n",
       "    }\n",
       "\n",
       "    .dataframe thead th {\n",
       "        text-align: right;\n",
       "    }\n",
       "</style>\n",
       "<table border=\"1\" class=\"dataframe\">\n",
       "  <thead>\n",
       "    <tr style=\"text-align: right;\">\n",
       "      <th></th>\n",
       "      <th>count</th>\n",
       "      <th>mean</th>\n",
       "      <th>std</th>\n",
       "      <th>min</th>\n",
       "      <th>25%</th>\n",
       "      <th>50%</th>\n",
       "      <th>75%</th>\n",
       "      <th>max</th>\n",
       "      <th>IQR</th>\n",
       "    </tr>\n",
       "  </thead>\n",
       "  <tbody>\n",
       "    <tr>\n",
       "      <th>protein</th>\n",
       "      <td>76.0</td>\n",
       "      <td>2.526316</td>\n",
       "      <td>1.089020</td>\n",
       "      <td>1.0</td>\n",
       "      <td>2.00</td>\n",
       "      <td>2.500000</td>\n",
       "      <td>3.0</td>\n",
       "      <td>6.0</td>\n",
       "      <td>1.00</td>\n",
       "    </tr>\n",
       "    <tr>\n",
       "      <th>fat</th>\n",
       "      <td>76.0</td>\n",
       "      <td>1.013158</td>\n",
       "      <td>1.013159</td>\n",
       "      <td>0.0</td>\n",
       "      <td>0.00</td>\n",
       "      <td>1.000000</td>\n",
       "      <td>2.0</td>\n",
       "      <td>5.0</td>\n",
       "      <td>2.00</td>\n",
       "    </tr>\n",
       "    <tr>\n",
       "      <th>sodium</th>\n",
       "      <td>76.0</td>\n",
       "      <td>160.065789</td>\n",
       "      <td>84.318813</td>\n",
       "      <td>0.0</td>\n",
       "      <td>132.50</td>\n",
       "      <td>180.000000</td>\n",
       "      <td>212.5</td>\n",
       "      <td>320.0</td>\n",
       "      <td>80.00</td>\n",
       "    </tr>\n",
       "    <tr>\n",
       "      <th>fiber</th>\n",
       "      <td>76.0</td>\n",
       "      <td>2.048684</td>\n",
       "      <td>2.219038</td>\n",
       "      <td>0.0</td>\n",
       "      <td>0.75</td>\n",
       "      <td>1.750000</td>\n",
       "      <td>3.0</td>\n",
       "      <td>14.0</td>\n",
       "      <td>2.25</td>\n",
       "    </tr>\n",
       "    <tr>\n",
       "      <th>carbo</th>\n",
       "      <td>76.0</td>\n",
       "      <td>14.930575</td>\n",
       "      <td>3.737575</td>\n",
       "      <td>7.0</td>\n",
       "      <td>12.00</td>\n",
       "      <td>14.861842</td>\n",
       "      <td>17.0</td>\n",
       "      <td>23.0</td>\n",
       "      <td>5.00</td>\n",
       "    </tr>\n",
       "    <tr>\n",
       "      <th>sugars</th>\n",
       "      <td>76.0</td>\n",
       "      <td>7.038608</td>\n",
       "      <td>4.377048</td>\n",
       "      <td>0.0</td>\n",
       "      <td>3.00</td>\n",
       "      <td>7.000000</td>\n",
       "      <td>11.0</td>\n",
       "      <td>15.0</td>\n",
       "      <td>8.00</td>\n",
       "    </tr>\n",
       "    <tr>\n",
       "      <th>potass</th>\n",
       "      <td>76.0</td>\n",
       "      <td>96.148892</td>\n",
       "      <td>66.688658</td>\n",
       "      <td>15.0</td>\n",
       "      <td>43.75</td>\n",
       "      <td>90.000000</td>\n",
       "      <td>120.0</td>\n",
       "      <td>330.0</td>\n",
       "      <td>76.25</td>\n",
       "    </tr>\n",
       "    <tr>\n",
       "      <th>vitamins</th>\n",
       "      <td>76.0</td>\n",
       "      <td>28.289474</td>\n",
       "      <td>22.487813</td>\n",
       "      <td>0.0</td>\n",
       "      <td>25.00</td>\n",
       "      <td>25.000000</td>\n",
       "      <td>25.0</td>\n",
       "      <td>100.0</td>\n",
       "      <td>0.00</td>\n",
       "    </tr>\n",
       "  </tbody>\n",
       "</table>\n",
       "</div>"
      ],
      "text/plain": [
       "          count        mean        std   min     25%         50%    75%  \\\n",
       "protein    76.0    2.526316   1.089020   1.0    2.00    2.500000    3.0   \n",
       "fat        76.0    1.013158   1.013159   0.0    0.00    1.000000    2.0   \n",
       "sodium     76.0  160.065789  84.318813   0.0  132.50  180.000000  212.5   \n",
       "fiber      76.0    2.048684   2.219038   0.0    0.75    1.750000    3.0   \n",
       "carbo      76.0   14.930575   3.737575   7.0   12.00   14.861842   17.0   \n",
       "sugars     76.0    7.038608   4.377048   0.0    3.00    7.000000   11.0   \n",
       "potass     76.0   96.148892  66.688658  15.0   43.75   90.000000  120.0   \n",
       "vitamins   76.0   28.289474  22.487813   0.0   25.00   25.000000   25.0   \n",
       "\n",
       "            max    IQR  \n",
       "protein     6.0   1.00  \n",
       "fat         5.0   2.00  \n",
       "sodium    320.0  80.00  \n",
       "fiber      14.0   2.25  \n",
       "carbo      23.0   5.00  \n",
       "sugars     15.0   8.00  \n",
       "potass    330.0  76.25  \n",
       "vitamins  100.0   0.00  "
      ]
     },
     "execution_count": 9,
     "metadata": {},
     "output_type": "execute_result"
    }
   ],
   "source": [
    "s[\"IQR\"] = s[\"75%\"] - s[\"25%\"]\n",
    "s"
   ]
  },
  {
   "cell_type": "code",
   "execution_count": 10,
   "id": "62cce5fb",
   "metadata": {},
   "outputs": [
    {
     "data": {
      "text/html": [
       "<div>\n",
       "<style scoped>\n",
       "    .dataframe tbody tr th:only-of-type {\n",
       "        vertical-align: middle;\n",
       "    }\n",
       "\n",
       "    .dataframe tbody tr th {\n",
       "        vertical-align: top;\n",
       "    }\n",
       "\n",
       "    .dataframe thead th {\n",
       "        text-align: right;\n",
       "    }\n",
       "</style>\n",
       "<table border=\"1\" class=\"dataframe\">\n",
       "  <thead>\n",
       "    <tr style=\"text-align: right;\">\n",
       "      <th></th>\n",
       "      <th>count</th>\n",
       "      <th>mean</th>\n",
       "      <th>std</th>\n",
       "      <th>min</th>\n",
       "      <th>25%</th>\n",
       "      <th>50%</th>\n",
       "      <th>75%</th>\n",
       "      <th>max</th>\n",
       "      <th>IQR</th>\n",
       "      <th>LowerBound</th>\n",
       "      <th>UpperBound</th>\n",
       "    </tr>\n",
       "  </thead>\n",
       "  <tbody>\n",
       "    <tr>\n",
       "      <th>protein</th>\n",
       "      <td>76.0</td>\n",
       "      <td>2.526316</td>\n",
       "      <td>1.089020</td>\n",
       "      <td>1.0</td>\n",
       "      <td>2.00</td>\n",
       "      <td>2.500000</td>\n",
       "      <td>3.0</td>\n",
       "      <td>6.0</td>\n",
       "      <td>1.00</td>\n",
       "      <td>0.500</td>\n",
       "      <td>4.500</td>\n",
       "    </tr>\n",
       "    <tr>\n",
       "      <th>fat</th>\n",
       "      <td>76.0</td>\n",
       "      <td>1.013158</td>\n",
       "      <td>1.013159</td>\n",
       "      <td>0.0</td>\n",
       "      <td>0.00</td>\n",
       "      <td>1.000000</td>\n",
       "      <td>2.0</td>\n",
       "      <td>5.0</td>\n",
       "      <td>2.00</td>\n",
       "      <td>-3.000</td>\n",
       "      <td>5.000</td>\n",
       "    </tr>\n",
       "    <tr>\n",
       "      <th>sodium</th>\n",
       "      <td>76.0</td>\n",
       "      <td>160.065789</td>\n",
       "      <td>84.318813</td>\n",
       "      <td>0.0</td>\n",
       "      <td>132.50</td>\n",
       "      <td>180.000000</td>\n",
       "      <td>212.5</td>\n",
       "      <td>320.0</td>\n",
       "      <td>80.00</td>\n",
       "      <td>12.500</td>\n",
       "      <td>332.500</td>\n",
       "    </tr>\n",
       "    <tr>\n",
       "      <th>fiber</th>\n",
       "      <td>76.0</td>\n",
       "      <td>2.048684</td>\n",
       "      <td>2.219038</td>\n",
       "      <td>0.0</td>\n",
       "      <td>0.75</td>\n",
       "      <td>1.750000</td>\n",
       "      <td>3.0</td>\n",
       "      <td>14.0</td>\n",
       "      <td>2.25</td>\n",
       "      <td>-2.625</td>\n",
       "      <td>6.375</td>\n",
       "    </tr>\n",
       "    <tr>\n",
       "      <th>carbo</th>\n",
       "      <td>76.0</td>\n",
       "      <td>14.930575</td>\n",
       "      <td>3.737575</td>\n",
       "      <td>7.0</td>\n",
       "      <td>12.00</td>\n",
       "      <td>14.861842</td>\n",
       "      <td>17.0</td>\n",
       "      <td>23.0</td>\n",
       "      <td>5.00</td>\n",
       "      <td>4.500</td>\n",
       "      <td>24.500</td>\n",
       "    </tr>\n",
       "    <tr>\n",
       "      <th>sugars</th>\n",
       "      <td>76.0</td>\n",
       "      <td>7.038608</td>\n",
       "      <td>4.377048</td>\n",
       "      <td>0.0</td>\n",
       "      <td>3.00</td>\n",
       "      <td>7.000000</td>\n",
       "      <td>11.0</td>\n",
       "      <td>15.0</td>\n",
       "      <td>8.00</td>\n",
       "      <td>-9.000</td>\n",
       "      <td>23.000</td>\n",
       "    </tr>\n",
       "    <tr>\n",
       "      <th>potass</th>\n",
       "      <td>76.0</td>\n",
       "      <td>96.148892</td>\n",
       "      <td>66.688658</td>\n",
       "      <td>15.0</td>\n",
       "      <td>43.75</td>\n",
       "      <td>90.000000</td>\n",
       "      <td>120.0</td>\n",
       "      <td>330.0</td>\n",
       "      <td>76.25</td>\n",
       "      <td>-70.625</td>\n",
       "      <td>234.375</td>\n",
       "    </tr>\n",
       "    <tr>\n",
       "      <th>vitamins</th>\n",
       "      <td>76.0</td>\n",
       "      <td>28.289474</td>\n",
       "      <td>22.487813</td>\n",
       "      <td>0.0</td>\n",
       "      <td>25.00</td>\n",
       "      <td>25.000000</td>\n",
       "      <td>25.0</td>\n",
       "      <td>100.0</td>\n",
       "      <td>0.00</td>\n",
       "      <td>25.000</td>\n",
       "      <td>25.000</td>\n",
       "    </tr>\n",
       "  </tbody>\n",
       "</table>\n",
       "</div>"
      ],
      "text/plain": [
       "          count        mean        std   min     25%         50%    75%  \\\n",
       "protein    76.0    2.526316   1.089020   1.0    2.00    2.500000    3.0   \n",
       "fat        76.0    1.013158   1.013159   0.0    0.00    1.000000    2.0   \n",
       "sodium     76.0  160.065789  84.318813   0.0  132.50  180.000000  212.5   \n",
       "fiber      76.0    2.048684   2.219038   0.0    0.75    1.750000    3.0   \n",
       "carbo      76.0   14.930575   3.737575   7.0   12.00   14.861842   17.0   \n",
       "sugars     76.0    7.038608   4.377048   0.0    3.00    7.000000   11.0   \n",
       "potass     76.0   96.148892  66.688658  15.0   43.75   90.000000  120.0   \n",
       "vitamins   76.0   28.289474  22.487813   0.0   25.00   25.000000   25.0   \n",
       "\n",
       "            max    IQR  LowerBound  UpperBound  \n",
       "protein     6.0   1.00       0.500       4.500  \n",
       "fat         5.0   2.00      -3.000       5.000  \n",
       "sodium    320.0  80.00      12.500     332.500  \n",
       "fiber      14.0   2.25      -2.625       6.375  \n",
       "carbo      23.0   5.00       4.500      24.500  \n",
       "sugars     15.0   8.00      -9.000      23.000  \n",
       "potass    330.0  76.25     -70.625     234.375  \n",
       "vitamins  100.0   0.00      25.000      25.000  "
      ]
     },
     "execution_count": 10,
     "metadata": {},
     "output_type": "execute_result"
    }
   ],
   "source": [
    "s[\"LowerBound\"] =s[\"25%\"] - s[\"IQR\"]*1.5\n",
    "s[\"UpperBound\"] = s[\"75%\"] + s[\"IQR\"]*1.5\n",
    "s"
   ]
  },
  {
   "cell_type": "code",
   "execution_count": 11,
   "id": "30e9d21a",
   "metadata": {},
   "outputs": [],
   "source": [
    "cereals1[\"protein\"] = cereals1[\"protein\"].mask(cereals1[\"protein\"] >4.5, cereals1[\"protein\"].median())\n",
    "cereals1[\"sodium\"] = cereals1[\"sodium\"].mask(cereals1[\"sodium\"] <12.5, cereals1[\"sodium\"].median())\n",
    "cereals1[\"fiber\"] = cereals1[\"fiber\"].mask(cereals1[\"fiber\"] >6.37, cereals1[\"fiber\"].median())\n",
    "cereals1[\"potass\"] = cereals1[\"potass\"].mask(cereals1[\"potass\"] >234.375, cereals1[\"potass\"].median())\n",
    "cereals1[\"vitamins\"] = cereals1[\"vitamins\"].mask(cereals1[\"vitamins\"] >25, cereals1[\"vitamins\"].median())\n"
   ]
  },
  {
   "cell_type": "markdown",
   "id": "6cc8264b",
   "metadata": {},
   "source": [
    "# QUESTION 5"
   ]
  },
  {
   "cell_type": "code",
   "execution_count": 40,
   "id": "743d20fa",
   "metadata": {},
   "outputs": [
    {
     "data": {
      "text/html": [
       "<div>\n",
       "<style scoped>\n",
       "    .dataframe tbody tr th:only-of-type {\n",
       "        vertical-align: middle;\n",
       "    }\n",
       "\n",
       "    .dataframe tbody tr th {\n",
       "        vertical-align: top;\n",
       "    }\n",
       "\n",
       "    .dataframe thead th {\n",
       "        text-align: right;\n",
       "    }\n",
       "</style>\n",
       "<table border=\"1\" class=\"dataframe\">\n",
       "  <thead>\n",
       "    <tr style=\"text-align: right;\">\n",
       "      <th></th>\n",
       "      <th>protein</th>\n",
       "      <th>fat</th>\n",
       "      <th>sodium</th>\n",
       "      <th>fiber</th>\n",
       "      <th>carbo</th>\n",
       "      <th>sugars</th>\n",
       "      <th>potass</th>\n",
       "      <th>vitamins</th>\n",
       "    </tr>\n",
       "  </thead>\n",
       "  <tbody>\n",
       "    <tr>\n",
       "      <th>min</th>\n",
       "      <td>1.00</td>\n",
       "      <td>0.0</td>\n",
       "      <td>15.0</td>\n",
       "      <td>0.000</td>\n",
       "      <td>7.000000</td>\n",
       "      <td>0.0</td>\n",
       "      <td>15.00</td>\n",
       "      <td>0.0</td>\n",
       "    </tr>\n",
       "    <tr>\n",
       "      <th>25%</th>\n",
       "      <td>2.00</td>\n",
       "      <td>0.0</td>\n",
       "      <td>147.5</td>\n",
       "      <td>0.750</td>\n",
       "      <td>12.000000</td>\n",
       "      <td>3.0</td>\n",
       "      <td>43.75</td>\n",
       "      <td>25.0</td>\n",
       "    </tr>\n",
       "    <tr>\n",
       "      <th>50%</th>\n",
       "      <td>2.25</td>\n",
       "      <td>1.0</td>\n",
       "      <td>180.0</td>\n",
       "      <td>1.625</td>\n",
       "      <td>14.861842</td>\n",
       "      <td>7.0</td>\n",
       "      <td>90.00</td>\n",
       "      <td>25.0</td>\n",
       "    </tr>\n",
       "    <tr>\n",
       "      <th>75%</th>\n",
       "      <td>3.00</td>\n",
       "      <td>2.0</td>\n",
       "      <td>212.5</td>\n",
       "      <td>3.000</td>\n",
       "      <td>17.000000</td>\n",
       "      <td>11.0</td>\n",
       "      <td>110.00</td>\n",
       "      <td>25.0</td>\n",
       "    </tr>\n",
       "    <tr>\n",
       "      <th>max</th>\n",
       "      <td>4.00</td>\n",
       "      <td>5.0</td>\n",
       "      <td>320.0</td>\n",
       "      <td>6.000</td>\n",
       "      <td>23.000000</td>\n",
       "      <td>15.0</td>\n",
       "      <td>230.00</td>\n",
       "      <td>25.0</td>\n",
       "    </tr>\n",
       "  </tbody>\n",
       "</table>\n",
       "</div>"
      ],
      "text/plain": [
       "     protein  fat  sodium  fiber      carbo  sugars  potass  vitamins\n",
       "min     1.00  0.0    15.0  0.000   7.000000     0.0   15.00       0.0\n",
       "25%     2.00  0.0   147.5  0.750  12.000000     3.0   43.75      25.0\n",
       "50%     2.25  1.0   180.0  1.625  14.861842     7.0   90.00      25.0\n",
       "75%     3.00  2.0   212.5  3.000  17.000000    11.0  110.00      25.0\n",
       "max     4.00  5.0   320.0  6.000  23.000000    15.0  230.00      25.0"
      ]
     },
     "execution_count": 40,
     "metadata": {},
     "output_type": "execute_result"
    }
   ],
   "source": [
    "cereals1.describe().tail(5)"
   ]
  },
  {
   "cell_type": "code",
   "execution_count": 13,
   "id": "126586f3",
   "metadata": {},
   "outputs": [
    {
     "data": {
      "text/plain": [
       "<AxesSubplot:xlabel='protein'>"
      ]
     },
     "execution_count": 13,
     "metadata": {},
     "output_type": "execute_result"
    },
    {
     "data": {
      "image/png": "[encoded data removed]",
      "text/plain": [
       "<Figure size 432x288 with 1 Axes>"
      ]
     },
     "metadata": {
      "needs_background": "light"
     },
     "output_type": "display_data"
    }
   ],
   "source": [
    "sns.boxplot(cereals1['protein'])"
   ]
  },
  {
   "cell_type": "code",
   "execution_count": 14,
   "id": "52e8a146",
   "metadata": {},
   "outputs": [
    {
     "data": {
      "text/plain": [
       "<AxesSubplot:xlabel='fat'>"
      ]
     },
     "execution_count": 14,
     "metadata": {},
     "output_type": "execute_result"
    },
    {
     "data": {
      "image/png": "[encoded data removed]",
      "text/plain": [
       "<Figure size 432x288 with 1 Axes>"
      ]
     },
     "metadata": {
      "needs_background": "light"
     },
     "output_type": "display_data"
    }
   ],
   "source": [
    "sns.boxplot(cereals1['fat'])"
   ]
  },
  {
   "cell_type": "code",
   "execution_count": 15,
   "id": "8b32e791",
   "metadata": {},
   "outputs": [
    {
     "data": {
      "text/plain": [
       "<AxesSubplot:xlabel='sodium'>"
      ]
     },
     "execution_count": 15,
     "metadata": {},
     "output_type": "execute_result"
    },
    {
     "data": {
      "image/png": "[encoded data removed]",
      "text/plain": [
       "<Figure size 432x288 with 1 Axes>"
      ]
     },
     "metadata": {
      "needs_background": "light"
     },
     "output_type": "display_data"
    }
   ],
   "source": [
    "sns.boxplot(cereals1['sodium'])"
   ]
  },
  {
   "cell_type": "code",
   "execution_count": 16,
   "id": "bad7728b",
   "metadata": {},
   "outputs": [
    {
     "data": {
      "text/plain": [
       "<AxesSubplot:xlabel='fiber'>"
      ]
     },
     "execution_count": 16,
     "metadata": {},
     "output_type": "execute_result"
    },
    {
     "data": {
      "image/png": "[encoded data removed]",
      "text/plain": [
       "<Figure size 432x288 with 1 Axes>"
      ]
     },
     "metadata": {
      "needs_background": "light"
     },
     "output_type": "display_data"
    }
   ],
   "source": [
    "sns.boxplot(cereals1['fiber'])"
   ]
  },
  {
   "cell_type": "code",
   "execution_count": 17,
   "id": "66b04032",
   "metadata": {},
   "outputs": [
    {
     "data": {
      "text/plain": [
       "<AxesSubplot:xlabel='carbo'>"
      ]
     },
     "execution_count": 17,
     "metadata": {},
     "output_type": "execute_result"
    },
    {
     "data": {
      "image/png": "[encoded data removed]",
      "text/plain": [
       "<Figure size 432x288 with 1 Axes>"
      ]
     },
     "metadata": {
      "needs_background": "light"
     },
     "output_type": "display_data"
    }
   ],
   "source": [
    "sns.boxplot(cereals1['carbo'])"
   ]
  },
  {
   "cell_type": "code",
   "execution_count": 18,
   "id": "24211328",
   "metadata": {
    "scrolled": true
   },
   "outputs": [
    {
     "data": {
      "text/plain": [
       "<AxesSubplot:xlabel='sugars'>"
      ]
     },
     "execution_count": 18,
     "metadata": {},
     "output_type": "execute_result"
    },
    {
     "data": {
      "image/png": "[encoded data removed]",
      "text/plain": [
       "<Figure size 432x288 with 1 Axes>"
      ]
     },
     "metadata": {
      "needs_background": "light"
     },
     "output_type": "display_data"
    }
   ],
   "source": [
    "sns.boxplot(cereals1['sugars'])"
   ]
  },
  {
   "cell_type": "code",
   "execution_count": 19,
   "id": "27132118",
   "metadata": {},
   "outputs": [
    {
     "data": {
      "text/plain": [
       "<AxesSubplot:xlabel='potass'>"
      ]
     },
     "execution_count": 19,
     "metadata": {},
     "output_type": "execute_result"
    },
    {
     "data": {
      "image/png": "[encoded data removed]",
      "text/plain": [
       "<Figure size 432x288 with 1 Axes>"
      ]
     },
     "metadata": {
      "needs_background": "light"
     },
     "output_type": "display_data"
    }
   ],
   "source": [
    "sns.boxplot(cereals1['potass'])"
   ]
  },
  {
   "cell_type": "code",
   "execution_count": 20,
   "id": "9758721e",
   "metadata": {},
   "outputs": [
    {
     "data": {
      "text/plain": [
       "<AxesSubplot:xlabel='vitamins'>"
      ]
     },
     "execution_count": 20,
     "metadata": {},
     "output_type": "execute_result"
    },
    {
     "data": {
      "image/png": "[encoded data removed]",
      "text/plain": [
       "<Figure size 432x288 with 1 Axes>"
      ]
     },
     "metadata": {
      "needs_background": "light"
     },
     "output_type": "display_data"
    }
   ],
   "source": [
    "sns.boxplot(cereals1['vitamins'])"
   ]
  },
  {
   "cell_type": "markdown",
   "id": "46164ad3",
   "metadata": {},
   "source": [
    "Cleaning noisy data does help a little. Changes in max and min values are observed however quartiles remain largely unchanged."
   ]
  },
  {
   "cell_type": "markdown",
   "id": "af3235e5",
   "metadata": {},
   "source": [
    "# QUESTION 6"
   ]
  },
  {
   "cell_type": "code",
   "execution_count": 21,
   "id": "1a2f14d5",
   "metadata": {},
   "outputs": [
    {
     "data": {
      "text/html": [
       "<div>\n",
       "<style scoped>\n",
       "    .dataframe tbody tr th:only-of-type {\n",
       "        vertical-align: middle;\n",
       "    }\n",
       "\n",
       "    .dataframe tbody tr th {\n",
       "        vertical-align: top;\n",
       "    }\n",
       "\n",
       "    .dataframe thead th {\n",
       "        text-align: right;\n",
       "    }\n",
       "</style>\n",
       "<table border=\"1\" class=\"dataframe\">\n",
       "  <thead>\n",
       "    <tr style=\"text-align: right;\">\n",
       "      <th>type</th>\n",
       "      <th>C</th>\n",
       "      <th>H</th>\n",
       "    </tr>\n",
       "    <tr>\n",
       "      <th>mfr</th>\n",
       "      <th></th>\n",
       "      <th></th>\n",
       "    </tr>\n",
       "  </thead>\n",
       "  <tbody>\n",
       "    <tr>\n",
       "      <th>A</th>\n",
       "      <td>0</td>\n",
       "      <td>1</td>\n",
       "    </tr>\n",
       "    <tr>\n",
       "      <th>G</th>\n",
       "      <td>22</td>\n",
       "      <td>0</td>\n",
       "    </tr>\n",
       "    <tr>\n",
       "      <th>K</th>\n",
       "      <td>23</td>\n",
       "      <td>0</td>\n",
       "    </tr>\n",
       "    <tr>\n",
       "      <th>N</th>\n",
       "      <td>4</td>\n",
       "      <td>1</td>\n",
       "    </tr>\n",
       "    <tr>\n",
       "      <th>P</th>\n",
       "      <td>9</td>\n",
       "      <td>0</td>\n",
       "    </tr>\n",
       "    <tr>\n",
       "      <th>Q</th>\n",
       "      <td>7</td>\n",
       "      <td>1</td>\n",
       "    </tr>\n",
       "    <tr>\n",
       "      <th>R</th>\n",
       "      <td>8</td>\n",
       "      <td>0</td>\n",
       "    </tr>\n",
       "  </tbody>\n",
       "</table>\n",
       "</div>"
      ],
      "text/plain": [
       "type   C  H\n",
       "mfr        \n",
       "A      0  1\n",
       "G     22  0\n",
       "K     23  0\n",
       "N      4  1\n",
       "P      9  0\n",
       "Q      7  1\n",
       "R      8  0"
      ]
     },
     "execution_count": 21,
     "metadata": {},
     "output_type": "execute_result"
    }
   ],
   "source": [
    "pd.crosstab(cereals.mfr,cereals.type)"
   ]
  },
  {
   "cell_type": "markdown",
   "id": "544797f0",
   "metadata": {},
   "source": [
    "# QUESTION 7"
   ]
  },
  {
   "cell_type": "code",
   "execution_count": 22,
   "id": "2f51f4da",
   "metadata": {},
   "outputs": [
    {
     "data": {
      "text/html": [
       "<div>\n",
       "<style scoped>\n",
       "    .dataframe tbody tr th:only-of-type {\n",
       "        vertical-align: middle;\n",
       "    }\n",
       "\n",
       "    .dataframe tbody tr th {\n",
       "        vertical-align: top;\n",
       "    }\n",
       "\n",
       "    .dataframe thead th {\n",
       "        text-align: right;\n",
       "    }\n",
       "</style>\n",
       "<table border=\"1\" class=\"dataframe\">\n",
       "  <thead>\n",
       "    <tr style=\"text-align: right;\">\n",
       "      <th></th>\n",
       "      <th>name</th>\n",
       "      <th>mfr</th>\n",
       "      <th>type</th>\n",
       "      <th>calories</th>\n",
       "      <th>protein</th>\n",
       "      <th>fat</th>\n",
       "      <th>sodium</th>\n",
       "      <th>fiber</th>\n",
       "      <th>carbo</th>\n",
       "      <th>sugars</th>\n",
       "      <th>potass</th>\n",
       "      <th>vitamins</th>\n",
       "      <th>shelf</th>\n",
       "      <th>weight</th>\n",
       "      <th>cups</th>\n",
       "      <th>rating</th>\n",
       "    </tr>\n",
       "  </thead>\n",
       "  <tbody>\n",
       "    <tr>\n",
       "      <th>2</th>\n",
       "      <td>All-Bran_with_Extra_Fiber</td>\n",
       "      <td>K</td>\n",
       "      <td>C</td>\n",
       "      <td>50</td>\n",
       "      <td>4</td>\n",
       "      <td>0</td>\n",
       "      <td>140</td>\n",
       "      <td>14.0</td>\n",
       "      <td>8.0</td>\n",
       "      <td>0.0</td>\n",
       "      <td>330.0</td>\n",
       "      <td>25</td>\n",
       "      <td>3</td>\n",
       "      <td>1.0</td>\n",
       "      <td>0.5</td>\n",
       "      <td>93.704912</td>\n",
       "    </tr>\n",
       "  </tbody>\n",
       "</table>\n",
       "</div>"
      ],
      "text/plain": [
       "                        name mfr type  calories  protein  fat  sodium  fiber  \\\n",
       "2  All-Bran_with_Extra_Fiber   K    C        50        4    0     140   14.0   \n",
       "\n",
       "   carbo  sugars  potass  vitamins  shelf  weight  cups     rating  \n",
       "2    8.0     0.0   330.0        25      3     1.0   0.5  93.704912  "
      ]
     },
     "execution_count": 22,
     "metadata": {},
     "output_type": "execute_result"
    }
   ],
   "source": [
    "#7.1 Which is the cereal with the best rating\n",
    "b=cereals['rating'].max()\n",
    "best=cereals[cereals['rating']==b]\n",
    "best "
   ]
  },
  {
   "cell_type": "code",
   "execution_count": 23,
   "id": "3e81f72e",
   "metadata": {},
   "outputs": [
    {
     "data": {
      "text/html": [
       "<div>\n",
       "<style scoped>\n",
       "    .dataframe tbody tr th:only-of-type {\n",
       "        vertical-align: middle;\n",
       "    }\n",
       "\n",
       "    .dataframe tbody tr th {\n",
       "        vertical-align: top;\n",
       "    }\n",
       "\n",
       "    .dataframe thead th {\n",
       "        text-align: right;\n",
       "    }\n",
       "</style>\n",
       "<table border=\"1\" class=\"dataframe\">\n",
       "  <thead>\n",
       "    <tr style=\"text-align: right;\">\n",
       "      <th></th>\n",
       "      <th>name</th>\n",
       "      <th>mfr</th>\n",
       "      <th>type</th>\n",
       "      <th>calories</th>\n",
       "      <th>protein</th>\n",
       "      <th>fat</th>\n",
       "      <th>sodium</th>\n",
       "      <th>fiber</th>\n",
       "      <th>carbo</th>\n",
       "      <th>sugars</th>\n",
       "      <th>potass</th>\n",
       "      <th>vitamins</th>\n",
       "      <th>shelf</th>\n",
       "      <th>weight</th>\n",
       "      <th>cups</th>\n",
       "      <th>rating</th>\n",
       "    </tr>\n",
       "  </thead>\n",
       "  <tbody>\n",
       "    <tr>\n",
       "      <th>9</th>\n",
       "      <td>Cap'n'Crunch</td>\n",
       "      <td>Q</td>\n",
       "      <td>C</td>\n",
       "      <td>120</td>\n",
       "      <td>1</td>\n",
       "      <td>2</td>\n",
       "      <td>220</td>\n",
       "      <td>0.0</td>\n",
       "      <td>12.0</td>\n",
       "      <td>12.0</td>\n",
       "      <td>35.0</td>\n",
       "      <td>25</td>\n",
       "      <td>2</td>\n",
       "      <td>1.0</td>\n",
       "      <td>0.75</td>\n",
       "      <td>18.042851</td>\n",
       "    </tr>\n",
       "  </tbody>\n",
       "</table>\n",
       "</div>"
      ],
      "text/plain": [
       "           name mfr type  calories  protein  fat  sodium  fiber  carbo  \\\n",
       "9  Cap'n'Crunch   Q    C       120        1    2     220    0.0   12.0   \n",
       "\n",
       "   sugars  potass  vitamins  shelf  weight  cups     rating  \n",
       "9    12.0    35.0        25      2     1.0  0.75  18.042851  "
      ]
     },
     "execution_count": 23,
     "metadata": {},
     "output_type": "execute_result"
    }
   ],
   "source": [
    "#7.2 which is the cereal with the worst rating\n",
    "w = cereals['rating'].min()\n",
    "worst = cereals[cereals['rating']==w]\n",
    "worst"
   ]
  },
  {
   "cell_type": "markdown",
   "id": "2670fe77",
   "metadata": {},
   "source": [
    "# QUESTION 8"
   ]
  },
  {
   "cell_type": "code",
   "execution_count": 24,
   "id": "bd8e469e",
   "metadata": {},
   "outputs": [
    {
     "data": {
      "image/png": "[encoded data removed]",
      "text/plain": [
       "<Figure size 432x288 with 1 Axes>"
      ]
     },
     "metadata": {
      "needs_background": "light"
     },
     "output_type": "display_data"
    }
   ],
   "source": [
    "#8.lot a side-by-side boxplot comparing the consumer rating of hot vs. cold cereals\n",
    "hot_cereals = cereals[cereals[\"type\"]=='H']\n",
    "cold_cereals = cereals[cereals[\"type\"]=='C']\n",
    "plt.figure()\n",
    "sns.boxplot(x=cereals.type,y=cereals.rating)\n",
    "plt.title(\"Boxplot for Consumer Rating of Hot vs. Cold Cereals\",fontsize=18)\n",
    "plt.show()"
   ]
  },
  {
   "cell_type": "markdown",
   "id": "0da1cf54",
   "metadata": {},
   "source": [
    "# QUESTION 9"
   ]
  },
  {
   "cell_type": "code",
   "execution_count": 25,
   "id": "a5ec42f4",
   "metadata": {},
   "outputs": [
    {
     "data": {
      "text/plain": [
       "<AxesSubplot:>"
      ]
     },
     "execution_count": 25,
     "metadata": {},
     "output_type": "execute_result"
    },
    {
     "data": {
      "image/png": "[encoded data removed]",
      "text/plain": [
       "<Figure size 432x288 with 2 Axes>"
      ]
     },
     "metadata": {
      "needs_background": "light"
     },
     "output_type": "display_data"
    }
   ],
   "source": [
    "#9. Is there a relation between sugars, calories, carbs, and fat\n",
    "cereals2 = cereals[['sugars' , 'calories' , 'carbo' , 'fat']]\n",
    "c=cereals2.corr()\n",
    "sns.heatmap(c,cmap=\"BuPu\", annot=True)"
   ]
  },
  {
   "cell_type": "code",
   "execution_count": 26,
   "id": "b50823ce",
   "metadata": {},
   "outputs": [
    {
     "data": {
      "text/plain": [
       "<seaborn.axisgrid.PairGrid at 0x25bef87ce80>"
      ]
     },
     "execution_count": 26,
     "metadata": {},
     "output_type": "execute_result"
    },
    {
     "data": {
      "image/png": "[encoded data removed]",
      "text/plain": [
       "<Figure size 720x720 with 20 Axes>"
      ]
     },
     "metadata": {
      "needs_background": "light"
     },
     "output_type": "display_data"
    }
   ],
   "source": [
    "sns.pairplot(cereals[[\"sugars\",\"calories\",\"carbo\",\"fat\"]])"
   ]
  },
  {
   "cell_type": "markdown",
   "id": "0c574871",
   "metadata": {},
   "source": [
    "# QUESTION 10"
   ]
  },
  {
   "cell_type": "code",
   "execution_count": 27,
   "id": "83f5ccfb",
   "metadata": {},
   "outputs": [
    {
     "data": {
      "text/html": [
       "<div>\n",
       "<style scoped>\n",
       "    .dataframe tbody tr th:only-of-type {\n",
       "        vertical-align: middle;\n",
       "    }\n",
       "\n",
       "    .dataframe tbody tr th {\n",
       "        vertical-align: top;\n",
       "    }\n",
       "\n",
       "    .dataframe thead th {\n",
       "        text-align: right;\n",
       "    }\n",
       "</style>\n",
       "<table border=\"1\" class=\"dataframe\">\n",
       "  <thead>\n",
       "    <tr style=\"text-align: right;\">\n",
       "      <th></th>\n",
       "      <th>name</th>\n",
       "      <th>mfr</th>\n",
       "      <th>type</th>\n",
       "      <th>calories</th>\n",
       "      <th>protein</th>\n",
       "      <th>fat</th>\n",
       "      <th>sodium</th>\n",
       "      <th>fiber</th>\n",
       "      <th>carbo</th>\n",
       "      <th>sugars</th>\n",
       "      <th>potass</th>\n",
       "      <th>vitamins</th>\n",
       "      <th>shelf</th>\n",
       "      <th>weight</th>\n",
       "      <th>cups</th>\n",
       "      <th>rating</th>\n",
       "    </tr>\n",
       "  </thead>\n",
       "  <tbody>\n",
       "    <tr>\n",
       "      <th>45</th>\n",
       "      <td>Mueslix_Crispy_Blend</td>\n",
       "      <td>K</td>\n",
       "      <td>C</td>\n",
       "      <td>160</td>\n",
       "      <td>3</td>\n",
       "      <td>2</td>\n",
       "      <td>150</td>\n",
       "      <td>3.0</td>\n",
       "      <td>17.0</td>\n",
       "      <td>13.0</td>\n",
       "      <td>160.0</td>\n",
       "      <td>25</td>\n",
       "      <td>3</td>\n",
       "      <td>1.5</td>\n",
       "      <td>0.67</td>\n",
       "      <td>30.313351</td>\n",
       "    </tr>\n",
       "  </tbody>\n",
       "</table>\n",
       "</div>"
      ],
      "text/plain": [
       "                    name mfr type  calories  protein  fat  sodium  fiber  \\\n",
       "45  Mueslix_Crispy_Blend   K    C       160        3    2     150    3.0   \n",
       "\n",
       "    carbo  sugars  potass  vitamins  shelf  weight  cups     rating  \n",
       "45   17.0    13.0   160.0        25      3     1.5  0.67  30.313351  "
      ]
     },
     "execution_count": 27,
     "metadata": {},
     "output_type": "execute_result"
    }
   ],
   "source": [
    "#10. Which manufacturers produce cereal with highest calories? \n",
    "c=cereals['calories'].max()\n",
    "highest=cereals[cereals['calories']==c]\n",
    "highest"
   ]
  },
  {
   "cell_type": "markdown",
   "id": "fc354b1a",
   "metadata": {},
   "source": [
    "Kelloggs produces the cereal with the highest calories"
   ]
  },
  {
   "cell_type": "markdown",
   "id": "5ee171bf",
   "metadata": {},
   "source": [
    "# QUESTION 11"
   ]
  },
  {
   "cell_type": "code",
   "execution_count": 28,
   "id": "6b00c0b3",
   "metadata": {},
   "outputs": [
    {
     "data": {
      "text/plain": [
       "-0.6743360496799723"
      ]
     },
     "execution_count": 28,
     "metadata": {},
     "output_type": "execute_result"
    }
   ],
   "source": [
    "correlation = cereals[\"calories\"].corr(cereals[\"rating\"])\n",
    "correlation"
   ]
  },
  {
   "cell_type": "code",
   "execution_count": 43,
   "id": "8dab6c3c",
   "metadata": {},
   "outputs": [
    {
     "data": {
      "text/plain": [
       "<AxesSubplot:>"
      ]
     },
     "execution_count": 43,
     "metadata": {},
     "output_type": "execute_result"
    },
    {
     "data": {
      "image/png": "[encoded data removed]",
      "text/plain": [
       "<Figure size 432x288 with 2 Axes>"
      ]
     },
     "metadata": {
      "needs_background": "light"
     },
     "output_type": "display_data"
    }
   ],
   "source": [
    "df1 = cereals[['shelf', 'calories']]\n",
    "sns.heatmap(df4.corr(method='pearson'), cmap=\"YlGnBu\", annot = True)"
   ]
  },
  {
   "cell_type": "markdown",
   "id": "f23a3f44",
   "metadata": {},
   "source": [
    "# QUESTION 12"
   ]
  },
  {
   "cell_type": "code",
   "execution_count": 29,
   "id": "9b0f7cf3",
   "metadata": {},
   "outputs": [
    {
     "data": {
      "text/plain": [
       "0.0019730207509652386"
      ]
     },
     "execution_count": 29,
     "metadata": {},
     "output_type": "execute_result"
    }
   ],
   "source": [
    "correlatn = cereals[\"shelf\"].corr(cereals[\"rating\"])\n",
    "correlatn"
   ]
  },
  {
   "cell_type": "code",
   "execution_count": 30,
   "id": "69acf464",
   "metadata": {},
   "outputs": [
    {
     "name": "stdout",
     "output_type": "stream",
     "text": [
      "          rating     shelf\n",
      "rating  1.000000  0.001973\n",
      "shelf   0.001973  1.000000\n"
     ]
    }
   ],
   "source": [
    "correlation = cereals[['rating' , 'shelf']].corr()\n",
    "print(correlation)"
   ]
  },
  {
   "cell_type": "code",
   "execution_count": 31,
   "id": "89912271",
   "metadata": {},
   "outputs": [
    {
     "data": {
      "image/png": "[encoded data removed]",
      "text/plain": [
       "<Figure size 432x288 with 1 Axes>"
      ]
     },
     "metadata": {
      "needs_background": "light"
     },
     "output_type": "display_data"
    }
   ],
   "source": [
    "sns.boxplot(x = 'shelf', y = 'rating', data = cereals)\n",
    "plt.title('Shelves vs Rating')\n",
    "plt.show()"
   ]
  },
  {
   "cell_type": "markdown",
   "id": "b9661c85",
   "metadata": {},
   "source": [
    "# QUESTION 13"
   ]
  },
  {
   "cell_type": "code",
   "execution_count": 52,
   "id": "68cb9194",
   "metadata": {},
   "outputs": [
    {
     "data": {
      "text/plain": [
       "<AxesSubplot:>"
      ]
     },
     "execution_count": 52,
     "metadata": {},
     "output_type": "execute_result"
    },
    {
     "data": {
      "image/png": "[encoded data removed]",
      "text/plain": [
       "<Figure size 432x288 with 2 Axes>"
      ]
     },
     "metadata": {
      "needs_background": "light"
     },
     "output_type": "display_data"
    }
   ],
   "source": [
    "cereals2 = cereals.copy()\n",
    "cereals2 = cereals2[['mfr','rating']]\n",
    "sns.heatmap(cereals2.corr(), cmap=\"YlGnBu\", annot=True)"
   ]
  },
  {
   "cell_type": "markdown",
   "id": "476cd755",
   "metadata": {},
   "source": [
    "There is not much relation between Manufacturer and Rating"
   ]
  },
  {
   "cell_type": "markdown",
   "id": "fd8e0810",
   "metadata": {},
   "source": [
    "# QUESTION 14"
   ]
  },
  {
   "cell_type": "code",
   "execution_count": 48,
   "id": "f886bd89",
   "metadata": {},
   "outputs": [
    {
     "data": {
      "text/html": [
       "<div>\n",
       "<style scoped>\n",
       "    .dataframe tbody tr th:only-of-type {\n",
       "        vertical-align: middle;\n",
       "    }\n",
       "\n",
       "    .dataframe tbody tr th {\n",
       "        vertical-align: top;\n",
       "    }\n",
       "\n",
       "    .dataframe thead th {\n",
       "        text-align: right;\n",
       "    }\n",
       "</style>\n",
       "<table border=\"1\" class=\"dataframe\">\n",
       "  <thead>\n",
       "    <tr style=\"text-align: right;\">\n",
       "      <th></th>\n",
       "      <th>calories</th>\n",
       "      <th>protein</th>\n",
       "      <th>fat</th>\n",
       "      <th>sodium</th>\n",
       "      <th>fiber</th>\n",
       "      <th>carbo</th>\n",
       "      <th>sugars</th>\n",
       "      <th>potass</th>\n",
       "      <th>vitamins</th>\n",
       "      <th>rating</th>\n",
       "    </tr>\n",
       "  </thead>\n",
       "  <tbody>\n",
       "    <tr>\n",
       "      <th>calories</th>\n",
       "      <td>1.000000</td>\n",
       "      <td>0.480686</td>\n",
       "      <td>0.329097</td>\n",
       "      <td>0.260754</td>\n",
       "      <td>-0.398579</td>\n",
       "      <td>0.379705</td>\n",
       "      <td>0.309334</td>\n",
       "      <td>-0.320946</td>\n",
       "      <td>0.332095</td>\n",
       "      <td>-0.595256</td>\n",
       "    </tr>\n",
       "    <tr>\n",
       "      <th>protein</th>\n",
       "      <td>0.480686</td>\n",
       "      <td>1.000000</td>\n",
       "      <td>0.598256</td>\n",
       "      <td>0.567629</td>\n",
       "      <td>0.153189</td>\n",
       "      <td>-0.203571</td>\n",
       "      <td>-0.078085</td>\n",
       "      <td>0.243976</td>\n",
       "      <td>0.311999</td>\n",
       "      <td>-0.188169</td>\n",
       "    </tr>\n",
       "    <tr>\n",
       "      <th>fat</th>\n",
       "      <td>0.329097</td>\n",
       "      <td>0.598256</td>\n",
       "      <td>1.000000</td>\n",
       "      <td>0.306848</td>\n",
       "      <td>-0.045681</td>\n",
       "      <td>-0.415487</td>\n",
       "      <td>-0.087430</td>\n",
       "      <td>0.112663</td>\n",
       "      <td>0.126428</td>\n",
       "      <td>-0.461869</td>\n",
       "    </tr>\n",
       "    <tr>\n",
       "      <th>sodium</th>\n",
       "      <td>0.260754</td>\n",
       "      <td>0.567629</td>\n",
       "      <td>0.306848</td>\n",
       "      <td>1.000000</td>\n",
       "      <td>0.324466</td>\n",
       "      <td>0.038546</td>\n",
       "      <td>0.217496</td>\n",
       "      <td>0.357794</td>\n",
       "      <td>0.599013</td>\n",
       "      <td>-0.267855</td>\n",
       "    </tr>\n",
       "    <tr>\n",
       "      <th>fiber</th>\n",
       "      <td>-0.398579</td>\n",
       "      <td>0.153189</td>\n",
       "      <td>-0.045681</td>\n",
       "      <td>0.324466</td>\n",
       "      <td>1.000000</td>\n",
       "      <td>-0.386531</td>\n",
       "      <td>0.032750</td>\n",
       "      <td>0.926158</td>\n",
       "      <td>0.280307</td>\n",
       "      <td>0.620996</td>\n",
       "    </tr>\n",
       "    <tr>\n",
       "      <th>carbo</th>\n",
       "      <td>0.379705</td>\n",
       "      <td>-0.203571</td>\n",
       "      <td>-0.415487</td>\n",
       "      <td>0.038546</td>\n",
       "      <td>-0.386531</td>\n",
       "      <td>1.000000</td>\n",
       "      <td>0.074584</td>\n",
       "      <td>-0.437242</td>\n",
       "      <td>0.044286</td>\n",
       "      <td>0.016012</td>\n",
       "    </tr>\n",
       "    <tr>\n",
       "      <th>sugars</th>\n",
       "      <td>0.309334</td>\n",
       "      <td>-0.078085</td>\n",
       "      <td>-0.087430</td>\n",
       "      <td>0.217496</td>\n",
       "      <td>0.032750</td>\n",
       "      <td>0.074584</td>\n",
       "      <td>1.000000</td>\n",
       "      <td>0.156163</td>\n",
       "      <td>0.757763</td>\n",
       "      <td>-0.451608</td>\n",
       "    </tr>\n",
       "    <tr>\n",
       "      <th>potass</th>\n",
       "      <td>-0.320946</td>\n",
       "      <td>0.243976</td>\n",
       "      <td>0.112663</td>\n",
       "      <td>0.357794</td>\n",
       "      <td>0.926158</td>\n",
       "      <td>-0.437242</td>\n",
       "      <td>0.156163</td>\n",
       "      <td>1.000000</td>\n",
       "      <td>0.358713</td>\n",
       "      <td>0.440688</td>\n",
       "    </tr>\n",
       "    <tr>\n",
       "      <th>vitamins</th>\n",
       "      <td>0.332095</td>\n",
       "      <td>0.311999</td>\n",
       "      <td>0.126428</td>\n",
       "      <td>0.599013</td>\n",
       "      <td>0.280307</td>\n",
       "      <td>0.044286</td>\n",
       "      <td>0.757763</td>\n",
       "      <td>0.358713</td>\n",
       "      <td>1.000000</td>\n",
       "      <td>-0.320625</td>\n",
       "    </tr>\n",
       "    <tr>\n",
       "      <th>rating</th>\n",
       "      <td>-0.595256</td>\n",
       "      <td>-0.188169</td>\n",
       "      <td>-0.461869</td>\n",
       "      <td>-0.267855</td>\n",
       "      <td>0.620996</td>\n",
       "      <td>0.016012</td>\n",
       "      <td>-0.451608</td>\n",
       "      <td>0.440688</td>\n",
       "      <td>-0.320625</td>\n",
       "      <td>1.000000</td>\n",
       "    </tr>\n",
       "  </tbody>\n",
       "</table>\n",
       "</div>"
      ],
      "text/plain": [
       "          calories   protein       fat    sodium     fiber     carbo  \\\n",
       "calories  1.000000  0.480686  0.329097  0.260754 -0.398579  0.379705   \n",
       "protein   0.480686  1.000000  0.598256  0.567629  0.153189 -0.203571   \n",
       "fat       0.329097  0.598256  1.000000  0.306848 -0.045681 -0.415487   \n",
       "sodium    0.260754  0.567629  0.306848  1.000000  0.324466  0.038546   \n",
       "fiber    -0.398579  0.153189 -0.045681  0.324466  1.000000 -0.386531   \n",
       "carbo     0.379705 -0.203571 -0.415487  0.038546 -0.386531  1.000000   \n",
       "sugars    0.309334 -0.078085 -0.087430  0.217496  0.032750  0.074584   \n",
       "potass   -0.320946  0.243976  0.112663  0.357794  0.926158 -0.437242   \n",
       "vitamins  0.332095  0.311999  0.126428  0.599013  0.280307  0.044286   \n",
       "rating   -0.595256 -0.188169 -0.461869 -0.267855  0.620996  0.016012   \n",
       "\n",
       "            sugars    potass  vitamins    rating  \n",
       "calories  0.309334 -0.320946  0.332095 -0.595256  \n",
       "protein  -0.078085  0.243976  0.311999 -0.188169  \n",
       "fat      -0.087430  0.112663  0.126428 -0.461869  \n",
       "sodium    0.217496  0.357794  0.599013 -0.267855  \n",
       "fiber     0.032750  0.926158  0.280307  0.620996  \n",
       "carbo     0.074584 -0.437242  0.044286  0.016012  \n",
       "sugars    1.000000  0.156163  0.757763 -0.451608  \n",
       "potass    0.156163  1.000000  0.358713  0.440688  \n",
       "vitamins  0.757763  0.358713  1.000000 -0.320625  \n",
       "rating   -0.451608  0.440688 -0.320625  1.000000  "
      ]
     },
     "execution_count": 48,
     "metadata": {},
     "output_type": "execute_result"
    }
   ],
   "source": [
    "variety1=['calories','protein','fat','sodium','fiber','carbo','sugars','potass','vitamins','rating']\n",
    "df1=cereals[variety1][cereals['rating']>50.7]\n",
    "df1.corr(method='pearson')"
   ]
  },
  {
   "cell_type": "markdown",
   "id": "9526cec3",
   "metadata": {},
   "source": [
    "# QUESTION 15"
   ]
  },
  {
   "cell_type": "code",
   "execution_count": 49,
   "id": "d0d45972",
   "metadata": {},
   "outputs": [],
   "source": [
    "def cost_function(X, y, theta):\n",
    "    m = len(y)\n",
    "    y_pred = X.dot(theta)\n",
    "    cost = (y_pred - y)**2\n",
    "\n",
    "    return np.sum(cost)/(2 * m)"
   ]
  },
  {
   "cell_type": "code",
   "execution_count": 53,
   "id": "bf5e4364",
   "metadata": {},
   "outputs": [
    {
     "data": {
      "text/plain": [
       "<AxesSubplot:>"
      ]
     },
     "execution_count": 53,
     "metadata": {},
     "output_type": "execute_result"
    },
    {
     "data": {
      "image/png": "[encoded data removed]",
      "text/plain": [
       "<Figure size 432x288 with 2 Axes>"
      ]
     },
     "metadata": {
      "needs_background": "light"
     },
     "output_type": "display_data"
    }
   ],
   "source": [
    "cereals3 = cereals.copy()\n",
    "cereals3 = cereals3[['protein','fat','sodium','fiber','carbo','sugars','potass','vitamins', 'rating']]\n",
    "sns.heatmap(cereals3.corr(), cmap=\"YlGnBu\", annot=True)"
   ]
  },
  {
   "cell_type": "code",
   "execution_count": 62,
   "id": "1fef22c5",
   "metadata": {},
   "outputs": [
    {
     "name": "stdout",
     "output_type": "stream",
     "text": [
      "0.26819076618893933\n"
     ]
    }
   ],
   "source": [
    "X1 = np.array(cereals3['protein']).reshape(-1, 1)\n",
    "y1= np.array(cereals3['rating']).reshape(-1, 1)\n",
    "  \n",
    "# Separating the data into independent and dependent variables\n",
    "# Converting each dataframe into a numpy array \n",
    "# since each dataframe contains only one column\n",
    "cereals3.dropna(inplace = True)\n",
    "  \n",
    "# Dropping any rows with Nan values\n",
    "X1_train, X1_test, y1_train, y1_test = train_test_split(X1, y1, test_size = 0.25)\n",
    "  \n",
    "# Splitting the data into training and testing data\n",
    "regr = linear_model.LinearRegression()\n",
    "  \n",
    "regr.fit(X1_train, y1_train)\n",
    "print(regr.score(X1_test, y1_test))"
   ]
  },
  {
   "cell_type": "code",
   "execution_count": 63,
   "id": "1b507ba1",
   "metadata": {},
   "outputs": [
    {
     "data": {
      "image/png": "[encoded data removed]",
      "text/plain": [
       "<Figure size 432x288 with 1 Axes>"
      ]
     },
     "metadata": {
      "needs_background": "light"
     },
     "output_type": "display_data"
    }
   ],
   "source": [
    "y1_pred = regr.predict(X1_test)\n",
    "plt.scatter(X1_test, y1_test, color ='b')\n",
    "plt.plot(X1_test, y1_pred, color ='k')\n",
    "  \n",
    "plt.show()"
   ]
  },
  {
   "cell_type": "code",
   "execution_count": 64,
   "id": "b1e91fef",
   "metadata": {},
   "outputs": [
    {
     "name": "stdout",
     "output_type": "stream",
     "text": [
      "0.17152684887236413\n"
     ]
    }
   ],
   "source": [
    "X2 = np.array(cereals3['fiber']).reshape(-1, 1)\n",
    "y2= np.array(cereals3['rating']).reshape(-1, 1)\n",
    "  \n",
    "# Separating the data into independent and dependent variables\n",
    "# Converting each dataframe into a numpy array \n",
    "# since each dataframe contains only one column\n",
    "cereals3.dropna(inplace = True)\n",
    "  \n",
    "# Dropping any rows with Nan values\n",
    "X2_train, X2_test, y2_train, y2_test = train_test_split(X2, y2)\n",
    "  \n",
    "# Splitting the data into training and testing data\n",
    "regr = linear_model.LinearRegression()\n",
    "  \n",
    "regr.fit(X2_train, y2_train)\n",
    "print(regr.score(X2_test, y2_test))"
   ]
  },
  {
   "cell_type": "code",
   "execution_count": 65,
   "id": "dbd5c205",
   "metadata": {},
   "outputs": [
    {
     "data": {
      "image/png": "[encoded data removed]",
      "text/plain": [
       "<Figure size 432x288 with 1 Axes>"
      ]
     },
     "metadata": {
      "needs_background": "light"
     },
     "output_type": "display_data"
    }
   ],
   "source": [
    "y2_pred = regr.predict(X2_test)\n",
    "plt.scatter(X2_test, y2_test, color ='b')\n",
    "plt.plot(X2_test, y2_pred, color ='k')\n",
    "  \n",
    "plt.show()"
   ]
  },
  {
   "cell_type": "code",
   "execution_count": 66,
   "id": "ce9ac2f1",
   "metadata": {},
   "outputs": [
    {
     "name": "stdout",
     "output_type": "stream",
     "text": [
      "-0.10235002373005253\n"
     ]
    }
   ],
   "source": [
    "X3= np.array(cereals3['potass']).reshape(-1, 1)\n",
    "y3= np.array(cereals3['rating']).reshape(-1, 1)\n",
    "  \n",
    "# Separating the data into independent and dependent variables\n",
    "# Converting each dataframe into a numpy array \n",
    "# since each dataframe contains only one column\n",
    "cereals3.dropna(inplace = True)\n",
    "  \n",
    "# Dropping any rows with Nan values\n",
    "X3_train, X3_test, y3_train, y3_test = train_test_split(X3, y3)\n",
    "  \n",
    "# Splitting the data into training and testing data\n",
    "regr = linear_model.LinearRegression()\n",
    "  \n",
    "regr.fit(X3_train, y3_train)\n",
    "print(regr.score(X3_test, y3_test))"
   ]
  },
  {
   "cell_type": "code",
   "execution_count": 67,
   "id": "4db730c3",
   "metadata": {},
   "outputs": [
    {
     "data": {
      "image/png": "[encoded data removed]",
      "text/plain": [
       "<Figure size 432x288 with 1 Axes>"
      ]
     },
     "metadata": {
      "needs_background": "light"
     },
     "output_type": "display_data"
    }
   ],
   "source": [
    "y3_pred = regr.predict(X3_test)\n",
    "plt.scatter(X3_test, y3_test, color ='b')\n",
    "plt.plot(X3_test, y3_pred, color ='k')\n",
    "  \n",
    "plt.show()"
   ]
  },
  {
   "cell_type": "code",
   "execution_count": null,
   "id": "834f8fde",
   "metadata": {},
   "outputs": [],
   "source": []
  }
 ],
 "metadata": {
  "kernelspec": {
   "display_name": "Python 3",
   "language": "python",
   "name": "python3"
  },
  "language_info": {
   "codemirror_mode": {
    "name": "ipython",
    "version": 3
   },
   "file_extension": ".py",
   "mimetype": "text/x-python",
   "name": "python",
   "nbconvert_exporter": "python",
   "pygments_lexer": "ipython3",
   "version": "3.8.8"
  }
 },
 "nbformat": 4,
 "nbformat_minor": 5
}
